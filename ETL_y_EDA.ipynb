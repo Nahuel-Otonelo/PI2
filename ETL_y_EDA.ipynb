{
 "cells": [
  {
   "cell_type": "code",
   "execution_count": 3,
   "metadata": {},
   "outputs": [
    {
     "name": "stderr",
     "output_type": "stream",
     "text": [
      "c:\\Users\\Nahuel Elias\\AppData\\Local\\Programs\\Python\\Python39\\lib\\site-packages\\scipy\\__init__.py:146: UserWarning: A NumPy version >=1.17.3 and <1.25.0 is required for this version of SciPy (detected version 1.25.2\n",
      "  warnings.warn(f\"A NumPy version >={np_minversion} and <{np_maxversion}\"\n"
     ]
    }
   ],
   "source": [
    "import pandas as pd\n",
    "import numpy as np\n",
    "import re\n",
    "import matplotlib.pyplot as plt\n",
    "import seaborn as sns"
   ]
  },
  {
   "cell_type": "markdown",
   "metadata": {},
   "source": [
    "# Introducción"
   ]
  },
  {
   "cell_type": "markdown",
   "metadata": {},
   "source": [
    "A partir de los datos brindados por la el Observatorio de Movilidad y Seguridad Vial de la Ciudad de Buenos Aires (OMSV), desde [aqui](https://data.buenosaires.gob.ar/dataset/victimas-siniestros-viales) se descargan archivos en formato xls. Para este trabajo en particular se utilizan los xlsx de homicidios(xlsx). Este archivo consta de dos planillas. Una llamada \"hechos\" y otra llamada homicidios_victimas.\n",
    "\n",
    "* La tabla de hechos tiene informacion acerca de los accidentes, como por ejemplo fecha, hora y lugar del hecho, participantes, victima y acusado. Esta tabla se aborda en la seccion 1.\n",
    "* La tabla homicidios_victimas tiene informacion de las victimas, el rol y el vehiculo que ocupaba (también puede haber sido peatón). Esta tabla se aborda en la sección 2.\n",
    "\n",
    "En la sección [1.1](#1.1-Transformación-del-dataframe-homicidios:) y [2.1](#-2.1-Transformaciones:) se agregan algunas columnas para mejorar el analisis y se transforman los dataframes modificando o remplazando valores faltantes.\n",
    "\n",
    "En este trabajo se aborda el estudio de los campos de estas planillas en las secciones [1.2](#1.2-Análisis-de-los-campos-de-la-tabla-de-hechos) y [2.2](#22-análisis-de-los-campos-de-la-tabla-homicidios-victimas) . Se analiza la naturaleza y la distribución de los datos realizando graficos y o tablas según sea el caso. "
   ]
  },
  {
   "cell_type": "code",
   "execution_count": 49,
   "metadata": {},
   "outputs": [],
   "source": [
    "homicidios = pd.read_excel('homicidios.xlsx') # se refiere a la hoja hechos del xls homicidios\n",
    "homicidios_victimas= pd.read_excel('homicidios.xlsx', sheet_name=2) # se refiere a la hoja victimas del xls homicidios\n",
    "homicidios.to_pickle('homicidios.pkl')\n",
    "homicidios_victimas.to_pickle('homicidios_victimas.pkl') # se pasan a este tipo de archivo los datos para luego poder levantarlos de una manera mas rápida si hace falta."
   ]
  },
  {
   "cell_type": "markdown",
   "metadata": {},
   "source": [
    "## 1.1 Transformación del dataframe homicidios:"
   ]
  },
  {
   "cell_type": "markdown",
   "metadata": {},
   "source": [
    "### Aumento de la población:\n",
    "\n",
    "Según el instituto nacional de Censos y Estadisticas de la Republica Argentina (INDEC), la población del distrito Ciudad Autonoma de Buenos Aires del censo del 2010 fue de 2890151. En el censo del 2022 fué de 3120612. El aumento en el período del 8 %"
   ]
  },
  {
   "cell_type": "code",
   "execution_count": 56,
   "metadata": {},
   "outputs": [
    {
     "name": "stdout",
     "output_type": "stream",
     "text": [
      "Aumento de la poblacion entre censos 2010 y 2022 en %:  7.974012430492386\n"
     ]
    }
   ],
   "source": [
    "pob_2022 = 3120612\n",
    "pob_2010 = 2890151\n",
    "aumento = pob_2022-pob_2010\n",
    "aumentop = aumento/pob_2010*100\n",
    "print('Aumento de la poblacion entre censos 2010 y 2022 en %: ', aumentop)\n"
   ]
  },
  {
   "cell_type": "markdown",
   "metadata": {},
   "source": [
    "Para que sea mas real el ratio accidentes cada 100000 habitantes se construye una recta de interpolacion para poder calcular la población en los años dados."
   ]
  },
  {
   "cell_type": "code",
   "execution_count": 102,
   "metadata": {},
   "outputs": [
    {
     "name": "stdout",
     "output_type": "stream",
     "text": [
      "Ordenada al origen:  -35712066.4326 pendiente:  19205.0833\n"
     ]
    }
   ],
   "source": [
    "m=round(aumento/(2022-2010), 4)\n",
    "ord_al_origen1 = pob_2022-m*2022\n",
    "\n",
    "print('Ordenada al origen: ', ord_al_origen1, 'pendiente: ', m)\n",
    "# valores para recta de interpolacion: ord_al_origen"
   ]
  },
  {
   "cell_type": "code",
   "execution_count": 58,
   "metadata": {},
   "outputs": [],
   "source": [
    "#Se Crea una columna con la población de la Ciudad Autonoma de Buenos Aires. La estimacion es realizada interpolando los valores de poblacion entre el censo 2010 y 2022\n",
    "# y es funcion de la columna AAAA\n",
    "homicidios = pd.read_pickle('homicidios.pkl')\n",
    "homicidios.insert(2, column='Poblacion_CABA', value=ord_al_origen1+m*homicidios['AAAA'])\n",
    "homicidios['ID'] = homicidios['ID'].astype(str)\n",
    "homicidios['HH'] = homicidios['HH'].replace('SD', 0).astype(int)\n",
    "homicidios.insert(5, column='dia', value='a') \n",
    "homicidios.dia = homicidios.FECHA.dt.day_name(locale= 'es_ES.utf8')\n",
    "homicidios.dia = homicidios.dia.replace('Sã¡bado', 'Sabado')\n",
    "homicidios.dia = homicidios.dia.replace('Miã©rcoles', 'Miercoles')\n",
    "homicidios['TIPO_DE_CALLE'] = homicidios['TIPO_DE_CALLE'].replace(to_replace='GRAL PAZ', value='AUTOPISTA')"
   ]
  },
  {
   "cell_type": "markdown",
   "metadata": {},
   "source": [
    "## 1.2 Análisis de los campos de la tabla de hechos.\n",
    "\n",
    "\n",
    "Se analizará campo por campo buscando ver si las variables para el análisis con correctas, si hay valores faltantes o erroneos, y se analiza la informacion de cada uno de ellos."
   ]
  },
  {
   "cell_type": "markdown",
   "metadata": {},
   "source": [
    "### 1.2.1 ID:"
   ]
  },
  {
   "cell_type": "code",
   "execution_count": 51,
   "metadata": {},
   "outputs": [
    {
     "name": "stdout",
     "output_type": "stream",
     "text": [
      "Cantidad de registros de ID sin repetir:  696 , cantidad de registros totales:  696\n"
     ]
    }
   ],
   "source": [
    "print('Cantidad de registros de ID sin repetir: ', homicidios['ID'].unique().size, ', cantidad de registros totales: ', len(homicidios))"
   ]
  },
  {
   "cell_type": "markdown",
   "metadata": {},
   "source": [
    "No hay valores repetidos para ID"
   ]
  },
  {
   "cell_type": "markdown",
   "metadata": {},
   "source": [
    "### 1.2.2 Número de víctimas por accidente:"
   ]
  },
  {
   "cell_type": "code",
   "execution_count": 19,
   "metadata": {},
   "outputs": [
    {
     "data": {
      "text/html": [
       "<div>\n",
       "<style scoped>\n",
       "    .dataframe tbody tr th:only-of-type {\n",
       "        vertical-align: middle;\n",
       "    }\n",
       "\n",
       "    .dataframe tbody tr th {\n",
       "        vertical-align: top;\n",
       "    }\n",
       "\n",
       "    .dataframe thead th {\n",
       "        text-align: right;\n",
       "    }\n",
       "</style>\n",
       "<table border=\"1\" class=\"dataframe\">\n",
       "  <thead>\n",
       "    <tr style=\"text-align: right;\">\n",
       "      <th></th>\n",
       "      <th>Victimas por accidente</th>\n",
       "      <th>Cantidad de accidentes</th>\n",
       "    </tr>\n",
       "  </thead>\n",
       "  <tbody>\n",
       "    <tr>\n",
       "      <th>0</th>\n",
       "      <td>1</td>\n",
       "      <td>676</td>\n",
       "    </tr>\n",
       "    <tr>\n",
       "      <th>1</th>\n",
       "      <td>2</td>\n",
       "      <td>19</td>\n",
       "    </tr>\n",
       "    <tr>\n",
       "      <th>2</th>\n",
       "      <td>3</td>\n",
       "      <td>1</td>\n",
       "    </tr>\n",
       "  </tbody>\n",
       "</table>\n",
       "</div>"
      ],
      "text/plain": [
       "   Victimas por accidente  Cantidad de accidentes\n",
       "0                       1                     676\n",
       "1                       2                      19\n",
       "2                       3                       1"
      ]
     },
     "execution_count": 19,
     "metadata": {},
     "output_type": "execute_result"
    }
   ],
   "source": [
    "N_victimas= homicidios['N_VICTIMAS'].value_counts().reset_index()\n",
    "N_victimas.rename(columns={'index':'Victimas por accidente', 'N_VICTIMAS': 'Cantidad de accidentes'}, inplace=True)\n",
    "N_victimas"
   ]
  },
  {
   "cell_type": "markdown",
   "metadata": {},
   "source": [
    "En la mayoria de los accidentes hubo solo una victima fatal. Solo hubo un accidente que la cantidad de victimas fue 3"
   ]
  },
  {
   "cell_type": "markdown",
   "metadata": {},
   "source": [
    "### 1.2.3 Fecha:"
   ]
  },
  {
   "cell_type": "code",
   "execution_count": 52,
   "metadata": {},
   "outputs": [
    {
     "name": "stdout",
     "output_type": "stream",
     "text": [
      "Los datos analizados van desde:  2016-01-01 00:00:00 hasta:  2021-12-30 00:00:00\n"
     ]
    }
   ],
   "source": [
    "print('Los datos analizados van desde: ', homicidios.FECHA.min(), 'hasta: ', homicidios.FECHA.max())"
   ]
  },
  {
   "cell_type": "markdown",
   "metadata": {},
   "source": [
    "### 1.2.4 Cantidad de accidentes por dia de la semana\n",
    "\n",
    "En la sección [1.1](#1.1-Transformación-del-dataframe-homicidios:) se agrega una columna al dataframe con el dia de la semana que corresponde a cada dia para verificar si podría identificarse alguna tendencia."
   ]
  },
  {
   "cell_type": "code",
   "execution_count": 62,
   "metadata": {},
   "outputs": [
    {
     "data": {
      "text/html": [
       "<div>\n",
       "<style scoped>\n",
       "    .dataframe tbody tr th:only-of-type {\n",
       "        vertical-align: middle;\n",
       "    }\n",
       "\n",
       "    .dataframe tbody tr th {\n",
       "        vertical-align: top;\n",
       "    }\n",
       "\n",
       "    .dataframe thead th {\n",
       "        text-align: right;\n",
       "    }\n",
       "</style>\n",
       "<table border=\"1\" class=\"dataframe\">\n",
       "  <thead>\n",
       "    <tr style=\"text-align: right;\">\n",
       "      <th></th>\n",
       "      <th>index</th>\n",
       "      <th>dia</th>\n",
       "    </tr>\n",
       "  </thead>\n",
       "  <tbody>\n",
       "    <tr>\n",
       "      <th>0</th>\n",
       "      <td>Lunes</td>\n",
       "      <td>106</td>\n",
       "    </tr>\n",
       "    <tr>\n",
       "      <th>1</th>\n",
       "      <td>Sabado</td>\n",
       "      <td>103</td>\n",
       "    </tr>\n",
       "    <tr>\n",
       "      <th>2</th>\n",
       "      <td>Domingo</td>\n",
       "      <td>99</td>\n",
       "    </tr>\n",
       "    <tr>\n",
       "      <th>3</th>\n",
       "      <td>Martes</td>\n",
       "      <td>99</td>\n",
       "    </tr>\n",
       "    <tr>\n",
       "      <th>4</th>\n",
       "      <td>Miercoles</td>\n",
       "      <td>98</td>\n",
       "    </tr>\n",
       "    <tr>\n",
       "      <th>5</th>\n",
       "      <td>Viernes</td>\n",
       "      <td>97</td>\n",
       "    </tr>\n",
       "    <tr>\n",
       "      <th>6</th>\n",
       "      <td>Jueves</td>\n",
       "      <td>94</td>\n",
       "    </tr>\n",
       "  </tbody>\n",
       "</table>\n",
       "</div>"
      ],
      "text/plain": [
       "       index  dia\n",
       "0      Lunes  106\n",
       "1     Sabado  103\n",
       "2    Domingo   99\n",
       "3     Martes   99\n",
       "4  Miercoles   98\n",
       "5    Viernes   97\n",
       "6     Jueves   94"
      ]
     },
     "execution_count": 62,
     "metadata": {},
     "output_type": "execute_result"
    }
   ],
   "source": [
    "dia = homicidios['dia'].value_counts().reset_index()\n",
    "dia\n"
   ]
  },
  {
   "cell_type": "code",
   "execution_count": 63,
   "metadata": {},
   "outputs": [
    {
     "data": {
      "image/png": "[encoded data removed]",
      "text/plain": [
       "<Figure size 720x432 with 1 Axes>"
      ]
     },
     "metadata": {
      "needs_background": "light"
     },
     "output_type": "display_data"
    }
   ],
   "source": [
    "plt.figure(figsize=(10, 6))\n",
    "sns.countplot(x='dia', data=homicidios, order=homicidios['dia'].value_counts().index)\n",
    "plt.xlabel(\"Dia\")\n",
    "plt.ylabel(\"Cantidad de muertos por accidentes viales\")\n",
    "plt.title(\"Número de muertos por Día (del 01-01-2016 al 31-12-2021)\");"
   ]
  },
  {
   "cell_type": "markdown",
   "metadata": {},
   "source": [
    "Si bien el dia lunes es el dia con mayor accidentes y el jueves con menor, no hay una tendencia clara debido a que la diferencia entre valores es baja. "
   ]
  },
  {
   "cell_type": "markdown",
   "metadata": {},
   "source": [
    "### 1.2.5 Accidentes por mes"
   ]
  },
  {
   "cell_type": "code",
   "execution_count": 64,
   "metadata": {},
   "outputs": [
    {
     "data": {
      "text/html": [
       "<div>\n",
       "<style scoped>\n",
       "    .dataframe tbody tr th:only-of-type {\n",
       "        vertical-align: middle;\n",
       "    }\n",
       "\n",
       "    .dataframe tbody tr th {\n",
       "        vertical-align: top;\n",
       "    }\n",
       "\n",
       "    .dataframe thead th {\n",
       "        text-align: right;\n",
       "    }\n",
       "</style>\n",
       "<table border=\"1\" class=\"dataframe\">\n",
       "  <thead>\n",
       "    <tr style=\"text-align: right;\">\n",
       "      <th></th>\n",
       "      <th>mes</th>\n",
       "      <th>cantidad</th>\n",
       "    </tr>\n",
       "  </thead>\n",
       "  <tbody>\n",
       "    <tr>\n",
       "      <th>0</th>\n",
       "      <td>12</td>\n",
       "      <td>78</td>\n",
       "    </tr>\n",
       "    <tr>\n",
       "      <th>1</th>\n",
       "      <td>11</td>\n",
       "      <td>67</td>\n",
       "    </tr>\n",
       "    <tr>\n",
       "      <th>2</th>\n",
       "      <td>8</td>\n",
       "      <td>65</td>\n",
       "    </tr>\n",
       "    <tr>\n",
       "      <th>3</th>\n",
       "      <td>1</td>\n",
       "      <td>62</td>\n",
       "    </tr>\n",
       "    <tr>\n",
       "      <th>4</th>\n",
       "      <td>5</td>\n",
       "      <td>60</td>\n",
       "    </tr>\n",
       "    <tr>\n",
       "      <th>5</th>\n",
       "      <td>6</td>\n",
       "      <td>58</td>\n",
       "    </tr>\n",
       "    <tr>\n",
       "      <th>6</th>\n",
       "      <td>2</td>\n",
       "      <td>56</td>\n",
       "    </tr>\n",
       "    <tr>\n",
       "      <th>7</th>\n",
       "      <td>3</td>\n",
       "      <td>51</td>\n",
       "    </tr>\n",
       "    <tr>\n",
       "      <th>8</th>\n",
       "      <td>7</td>\n",
       "      <td>51</td>\n",
       "    </tr>\n",
       "    <tr>\n",
       "      <th>9</th>\n",
       "      <td>10</td>\n",
       "      <td>51</td>\n",
       "    </tr>\n",
       "    <tr>\n",
       "      <th>10</th>\n",
       "      <td>4</td>\n",
       "      <td>50</td>\n",
       "    </tr>\n",
       "    <tr>\n",
       "      <th>11</th>\n",
       "      <td>9</td>\n",
       "      <td>47</td>\n",
       "    </tr>\n",
       "  </tbody>\n",
       "</table>\n",
       "</div>"
      ],
      "text/plain": [
       "    mes  cantidad\n",
       "0    12        78\n",
       "1    11        67\n",
       "2     8        65\n",
       "3     1        62\n",
       "4     5        60\n",
       "5     6        58\n",
       "6     2        56\n",
       "7     3        51\n",
       "8     7        51\n",
       "9    10        51\n",
       "10    4        50\n",
       "11    9        47"
      ]
     },
     "execution_count": 64,
     "metadata": {},
     "output_type": "execute_result"
    }
   ],
   "source": [
    "\n",
    "homicidios.nunique(axis=0, dropna=True) # observando la fila MM puede verse que se produjeron accidentes mortales durante todos los meses.\n",
    "mes= homicidios['MM'].value_counts().reset_index()\n",
    "mes.columns = ['mes', 'cantidad']\n",
    "mes"
   ]
  },
  {
   "cell_type": "code",
   "execution_count": 66,
   "metadata": {},
   "outputs": [
    {
     "data": {
      "image/png": "[encoded data removed]",
      "text/plain": [
       "<Figure size 720x432 with 1 Axes>"
      ]
     },
     "metadata": {
      "needs_background": "light"
     },
     "output_type": "display_data"
    }
   ],
   "source": [
    "plt.figure(figsize=(10, 6))\n",
    "sns.countplot(x='MM', data=homicidios)\n",
    "plt.xlabel(\"Mes\")\n",
    "plt.ylabel(\"Cantidad de muertos por accidentes viales\")\n",
    "plt.title(\"Número de muertos por meses (del 01-01-2016 al 31-12-2021)\");"
   ]
  },
  {
   "cell_type": "markdown",
   "metadata": {},
   "source": [
    "### 1.2.6 Cantidad de accidentes fatales por año\n",
    "\n",
    "Se grafican los accidentes cada 100000 habitantes."
   ]
  },
  {
   "cell_type": "code",
   "execution_count": 76,
   "metadata": {},
   "outputs": [],
   "source": [
    "Anio = homicidios['AAAA'].value_counts().reset_index()\n",
    "Anio.columns = ['Anio', 'Cantidad']"
   ]
  },
  {
   "cell_type": "code",
   "execution_count": 78,
   "metadata": {},
   "outputs": [
    {
     "data": {
      "text/html": [
       "<div>\n",
       "<style scoped>\n",
       "    .dataframe tbody tr th:only-of-type {\n",
       "        vertical-align: middle;\n",
       "    }\n",
       "\n",
       "    .dataframe tbody tr th {\n",
       "        vertical-align: top;\n",
       "    }\n",
       "\n",
       "    .dataframe thead th {\n",
       "        text-align: right;\n",
       "    }\n",
       "</style>\n",
       "<table border=\"1\" class=\"dataframe\">\n",
       "  <thead>\n",
       "    <tr style=\"text-align: right;\">\n",
       "      <th></th>\n",
       "      <th>Anio</th>\n",
       "      <th>Cantidad</th>\n",
       "      <th>accidentes/100k</th>\n",
       "    </tr>\n",
       "  </thead>\n",
       "  <tbody>\n",
       "    <tr>\n",
       "      <th>0</th>\n",
       "      <td>2016</td>\n",
       "      <td>144</td>\n",
       "      <td>4.791405</td>\n",
       "    </tr>\n",
       "    <tr>\n",
       "      <th>1</th>\n",
       "      <td>2018</td>\n",
       "      <td>143</td>\n",
       "      <td>4.698088</td>\n",
       "    </tr>\n",
       "    <tr>\n",
       "      <th>2</th>\n",
       "      <td>2017</td>\n",
       "      <td>131</td>\n",
       "      <td>4.331170</td>\n",
       "    </tr>\n",
       "    <tr>\n",
       "      <th>3</th>\n",
       "      <td>2019</td>\n",
       "      <td>103</td>\n",
       "      <td>3.362720</td>\n",
       "    </tr>\n",
       "    <tr>\n",
       "      <th>4</th>\n",
       "      <td>2021</td>\n",
       "      <td>97</td>\n",
       "      <td>3.127613</td>\n",
       "    </tr>\n",
       "    <tr>\n",
       "      <th>5</th>\n",
       "      <td>2020</td>\n",
       "      <td>78</td>\n",
       "      <td>2.530658</td>\n",
       "    </tr>\n",
       "  </tbody>\n",
       "</table>\n",
       "</div>"
      ],
      "text/plain": [
       "   Anio  Cantidad  accidentes/100k\n",
       "0  2016       144         4.791405\n",
       "1  2018       143         4.698088\n",
       "2  2017       131         4.331170\n",
       "3  2019       103         3.362720\n",
       "4  2021        97         3.127613\n",
       "5  2020        78         2.530658"
      ]
     },
     "execution_count": 78,
     "metadata": {},
     "output_type": "execute_result"
    }
   ],
   "source": [
    "Anioc100 = homicidios['AAAA'].value_counts().reset_index()\n",
    "Anioc100.columns = ['Anio', 'Cantidad']\n",
    "Anioc100.insert(2, 'accidentes/100k', value=Anio['Cantidad']/(ord_al_origen1+m*Anioc100['Anio'])*100000) #Para estimar la poblacion por año se utiliza\n",
    "                                                                                                        #la formula de la interpolacion lineal \n",
    "Anioc100"
   ]
  },
  {
   "cell_type": "code",
   "execution_count": 81,
   "metadata": {},
   "outputs": [
    {
     "data": {
      "image/png": "[encoded data removed]",
      "text/plain": [
       "<Figure size 720x432 with 1 Axes>"
      ]
     },
     "metadata": {
      "needs_background": "light"
     },
     "output_type": "display_data"
    }
   ],
   "source": [
    "plt.figure(figsize=(10, 6))\n",
    "sns.barplot(x = \"Anio\", y = \"accidentes/100k\", data = Anioc100)\n",
    "plt.xlabel(\"Anio\")\n",
    "plt.ylabel(\"Accidentes/100000 habitantes\")\n",
    "plt.title(\"Accidentes mortales por año cada 100000 habitantes\");"
   ]
  },
  {
   "cell_type": "markdown",
   "metadata": {},
   "source": [
    "En el gráfico puede verse una disminucion de los accidentes cada 100000 habitantes a lo largo de los años. Observar la baja del año 2020 debida a la disminucion de transito por el aislamiento social preventivo por la pandemia de Covid - 19.\n",
    "\n",
    "Tener en cuenta que la población año a año es estimada por interpolación lineal entre los datos de los censos de 2010 y 2022."
   ]
  },
  {
   "cell_type": "markdown",
   "metadata": {},
   "source": [
    "### 1.2.7 Víctimas por hora del dia"
   ]
  },
  {
   "cell_type": "code",
   "execution_count": 30,
   "metadata": {},
   "outputs": [],
   "source": [
    "hora = homicidios['HH'].value_counts().reset_index()\n",
    "hora.columns = ['hora', 'cantidad']\n",
    "#hora"
   ]
  },
  {
   "cell_type": "code",
   "execution_count": 31,
   "metadata": {},
   "outputs": [
    {
     "data": {
      "text/plain": [
       "Text(0.5, 1.0, 'Víctimas por hora del dia')"
      ]
     },
     "execution_count": 31,
     "metadata": {},
     "output_type": "execute_result"
    },
    {
     "data": {
      "image/png": "[encoded data removed]",
      "text/plain": [
       "<Figure size 720x432 with 1 Axes>"
      ]
     },
     "metadata": {
      "needs_background": "light"
     },
     "output_type": "display_data"
    }
   ],
   "source": [
    "plt.figure(figsize=(10, 6))\n",
    "sns.barplot(x = \"hora\", y = \"cantidad\", data = hora)\n",
    "plt.xlabel(\"hora\")\n",
    "plt.ylabel(\"cantidad de víctimas\")\n",
    "plt.title(\"Víctimas por hora del dia\")"
   ]
  },
  {
   "cell_type": "markdown",
   "metadata": {},
   "source": [
    "Puede verse un aumento de accidentes en hora pico de la mañana (de 6 a 9). En hora pico de la tarde (16 a 20) hay otro pico aunque no parece verse un aumento tan significativo. \n",
    "\n",
    "Tener en cuenta que habia dos registros en la columna HH que tenian de valor 'SD'. Esos valores fueron remplazados por 0 y darian un incremento artificial de accidentes sobre la hora 00:00."
   ]
  },
  {
   "cell_type": "markdown",
   "metadata": {},
   "source": [
    "### 1.2.8 Cantidad de accidentes por tipo de vía.\n",
    "\n",
    "La autopista General Paz figuraba como un tipo de vía. Al tratarse de autopista, en la seccion 1.1 se cambió por autopista."
   ]
  },
  {
   "cell_type": "code",
   "execution_count": 83,
   "metadata": {},
   "outputs": [
    {
     "data": {
      "text/html": [
       "<div>\n",
       "<style scoped>\n",
       "    .dataframe tbody tr th:only-of-type {\n",
       "        vertical-align: middle;\n",
       "    }\n",
       "\n",
       "    .dataframe tbody tr th {\n",
       "        vertical-align: top;\n",
       "    }\n",
       "\n",
       "    .dataframe thead th {\n",
       "        text-align: right;\n",
       "    }\n",
       "</style>\n",
       "<table border=\"1\" class=\"dataframe\">\n",
       "  <thead>\n",
       "    <tr style=\"text-align: right;\">\n",
       "      <th></th>\n",
       "      <th>tipo_de_calle</th>\n",
       "      <th>cantidad</th>\n",
       "    </tr>\n",
       "  </thead>\n",
       "  <tbody>\n",
       "    <tr>\n",
       "      <th>0</th>\n",
       "      <td>AVENIDA</td>\n",
       "      <td>429</td>\n",
       "    </tr>\n",
       "    <tr>\n",
       "      <th>1</th>\n",
       "      <td>CALLE</td>\n",
       "      <td>136</td>\n",
       "    </tr>\n",
       "    <tr>\n",
       "      <th>2</th>\n",
       "      <td>AUTOPISTA</td>\n",
       "      <td>131</td>\n",
       "    </tr>\n",
       "  </tbody>\n",
       "</table>\n",
       "</div>"
      ],
      "text/plain": [
       "  tipo_de_calle  cantidad\n",
       "0       AVENIDA       429\n",
       "1         CALLE       136\n",
       "2     AUTOPISTA       131"
      ]
     },
     "execution_count": 83,
     "metadata": {},
     "output_type": "execute_result"
    }
   ],
   "source": [
    "tipos_de_calle= homicidios['TIPO_DE_CALLE'].value_counts().reset_index()\n",
    "tipos_de_calle.columns = ['tipo_de_calle', 'cantidad']\n",
    "tipos_de_calle"
   ]
  },
  {
   "cell_type": "code",
   "execution_count": 84,
   "metadata": {},
   "outputs": [
    {
     "data": {
      "image/png": "[encoded data removed]",
      "text/plain": [
       "<Figure size 720x720 with 1 Axes>"
      ]
     },
     "metadata": {},
     "output_type": "display_data"
    }
   ],
   "source": [
    "data = tipos_de_calle['cantidad']\n",
    "labels = tipos_de_calle['tipo_de_calle']\n",
    "colors = sns.color_palette('bright')\n",
    "plt.figure(figsize=(10, 10))\n",
    "# Crear el gráfico de torta\n",
    "pie = plt.pie(data, labels=labels, colors=colors, autopct='%0.0f%%')\n",
    "plt.gca().set_facecolor('black')  # Establecer el fondo negro\n",
    "\n",
    "# Cambiar el color de las etiquetas a blanco\n",
    "for label in pie[1]:\n",
    "    label.set_color('red')\n",
    "plt.legend()\n",
    "plt.title(\"Porcentaje de victimas por tipo de via de circulación\")\n",
    "plt.show()"
   ]
  },
  {
   "cell_type": "markdown",
   "metadata": {},
   "source": [
    "El tipo de via en el que menos accidentes mortales se producen es la autopista."
   ]
  },
  {
   "cell_type": "markdown",
   "metadata": {},
   "source": [
    "### 1.2.9 Siniestros en esquinas\n",
    "\n",
    "De acuerdo a las definiciones del diccionario de los datos, en caso de que el siniestro se haya producido en una esquina, entonces en la columna 'Cruce' deberia verse el nombre de la calle. Puede deducirse entonces que si el registro en esa columna esta en NaN, el siniestro no se produjo entonces en una esquina.\n"
   ]
  },
  {
   "cell_type": "code",
   "execution_count": 85,
   "metadata": {},
   "outputs": [
    {
     "data": {
      "text/plain": [
       "75.43103448275862"
      ]
     },
     "execution_count": 85,
     "metadata": {},
     "output_type": "execute_result"
    }
   ],
   "source": [
    "\n",
    "porcentaje_choques_esquinas = homicidios[homicidios['Cruce'].notna()]['Cruce'].count()/len(homicidios['Cruce']) *100\n",
    "porcentaje_choques_esquinas"
   ]
  },
  {
   "cell_type": "markdown",
   "metadata": {},
   "source": [
    "El 75 % de los siniestros en los que se hubo muertes, se produjeron en esquinas."
   ]
  },
  {
   "cell_type": "markdown",
   "metadata": {},
   "source": [
    "### 1.2.10 Cantidad de accidentes por comuna\n",
    "\n",
    "En la Ciudad de Buenos Aires hay una división política por [comunas](https://buenosaires.gob.ar/comunas). En la planilla de hechos esta especificado en que comuna se produjeron."
   ]
  },
  {
   "cell_type": "code",
   "execution_count": 86,
   "metadata": {},
   "outputs": [
    {
     "data": {
      "text/html": [
       "<div>\n",
       "<style scoped>\n",
       "    .dataframe tbody tr th:only-of-type {\n",
       "        vertical-align: middle;\n",
       "    }\n",
       "\n",
       "    .dataframe tbody tr th {\n",
       "        vertical-align: top;\n",
       "    }\n",
       "\n",
       "    .dataframe thead th {\n",
       "        text-align: right;\n",
       "    }\n",
       "</style>\n",
       "<table border=\"1\" class=\"dataframe\">\n",
       "  <thead>\n",
       "    <tr style=\"text-align: right;\">\n",
       "      <th></th>\n",
       "      <th>comuna</th>\n",
       "      <th>cantidad</th>\n",
       "    </tr>\n",
       "  </thead>\n",
       "  <tbody>\n",
       "    <tr>\n",
       "      <th>0</th>\n",
       "      <td>1</td>\n",
       "      <td>90</td>\n",
       "    </tr>\n",
       "    <tr>\n",
       "      <th>1</th>\n",
       "      <td>4</td>\n",
       "      <td>76</td>\n",
       "    </tr>\n",
       "    <tr>\n",
       "      <th>2</th>\n",
       "      <td>9</td>\n",
       "      <td>73</td>\n",
       "    </tr>\n",
       "    <tr>\n",
       "      <th>3</th>\n",
       "      <td>8</td>\n",
       "      <td>65</td>\n",
       "    </tr>\n",
       "    <tr>\n",
       "      <th>4</th>\n",
       "      <td>7</td>\n",
       "      <td>60</td>\n",
       "    </tr>\n",
       "    <tr>\n",
       "      <th>5</th>\n",
       "      <td>3</td>\n",
       "      <td>45</td>\n",
       "    </tr>\n",
       "    <tr>\n",
       "      <th>6</th>\n",
       "      <td>15</td>\n",
       "      <td>44</td>\n",
       "    </tr>\n",
       "    <tr>\n",
       "      <th>7</th>\n",
       "      <td>13</td>\n",
       "      <td>40</td>\n",
       "    </tr>\n",
       "    <tr>\n",
       "      <th>8</th>\n",
       "      <td>12</td>\n",
       "      <td>37</td>\n",
       "    </tr>\n",
       "    <tr>\n",
       "      <th>9</th>\n",
       "      <td>14</td>\n",
       "      <td>35</td>\n",
       "    </tr>\n",
       "    <tr>\n",
       "      <th>10</th>\n",
       "      <td>11</td>\n",
       "      <td>32</td>\n",
       "    </tr>\n",
       "    <tr>\n",
       "      <th>11</th>\n",
       "      <td>10</td>\n",
       "      <td>29</td>\n",
       "    </tr>\n",
       "    <tr>\n",
       "      <th>12</th>\n",
       "      <td>2</td>\n",
       "      <td>25</td>\n",
       "    </tr>\n",
       "    <tr>\n",
       "      <th>13</th>\n",
       "      <td>5</td>\n",
       "      <td>22</td>\n",
       "    </tr>\n",
       "    <tr>\n",
       "      <th>14</th>\n",
       "      <td>6</td>\n",
       "      <td>21</td>\n",
       "    </tr>\n",
       "  </tbody>\n",
       "</table>\n",
       "</div>"
      ],
      "text/plain": [
       "    comuna  cantidad\n",
       "0        1        90\n",
       "1        4        76\n",
       "2        9        73\n",
       "3        8        65\n",
       "4        7        60\n",
       "5        3        45\n",
       "6       15        44\n",
       "7       13        40\n",
       "8       12        37\n",
       "9       14        35\n",
       "10      11        32\n",
       "11      10        29\n",
       "12       2        25\n",
       "13       5        22\n",
       "14       6        21"
      ]
     },
     "execution_count": 86,
     "metadata": {},
     "output_type": "execute_result"
    }
   ],
   "source": [
    "comunas= homicidios['COMUNA'].value_counts().reset_index()\n",
    "comunas.columns = ['comuna', 'cantidad']\n",
    "comunas = comunas.drop(index=15) # se dropea el index=15 que corresponde a la comuna 0. Esa comuna no existe y ese registro se trata de un error. Para este analisis no es tenido en cuenta ese registro.\n",
    "comunas"
   ]
  },
  {
   "cell_type": "code",
   "execution_count": 88,
   "metadata": {},
   "outputs": [
    {
     "data": {
      "image/png": "[encoded data removed]",
      "text/plain": [
       "<Figure size 720x432 with 1 Axes>"
      ]
     },
     "metadata": {
      "needs_background": "light"
     },
     "output_type": "display_data"
    }
   ],
   "source": [
    "plt.figure(figsize=(10, 6))\n",
    "sns.barplot(x = \"comuna\", y = \"cantidad\", data = comunas)\n",
    "plt.xlabel(\"Comuna\")\n",
    "plt.ylabel(\"Cantidad de víctimas\")\n",
    "plt.title(\"Siniestros por comunas\");"
   ]
  },
  {
   "cell_type": "markdown",
   "metadata": {},
   "source": [
    "### 1.2.11 Participantes en el siniestro\n",
    "\n",
    "En el diccionario definen al campo participantes como la conjunción de victima y acusado."
   ]
  },
  {
   "cell_type": "code",
   "execution_count": 90,
   "metadata": {},
   "outputs": [
    {
     "data": {
      "text/html": [
       "<div>\n",
       "<style scoped>\n",
       "    .dataframe tbody tr th:only-of-type {\n",
       "        vertical-align: middle;\n",
       "    }\n",
       "\n",
       "    .dataframe tbody tr th {\n",
       "        vertical-align: top;\n",
       "    }\n",
       "\n",
       "    .dataframe thead th {\n",
       "        text-align: right;\n",
       "    }\n",
       "</style>\n",
       "<table border=\"1\" class=\"dataframe\">\n",
       "  <thead>\n",
       "    <tr style=\"text-align: right;\">\n",
       "      <th></th>\n",
       "      <th>participantes</th>\n",
       "      <th>cantidad</th>\n",
       "    </tr>\n",
       "  </thead>\n",
       "  <tbody>\n",
       "    <tr>\n",
       "      <th>0</th>\n",
       "      <td>PEATON-PASAJEROS</td>\n",
       "      <td>105</td>\n",
       "    </tr>\n",
       "    <tr>\n",
       "      <th>1</th>\n",
       "      <td>MOTO-AUTO</td>\n",
       "      <td>83</td>\n",
       "    </tr>\n",
       "    <tr>\n",
       "      <th>2</th>\n",
       "      <td>MOTO-CARGAS</td>\n",
       "      <td>78</td>\n",
       "    </tr>\n",
       "    <tr>\n",
       "      <th>3</th>\n",
       "      <td>PEATON-AUTO</td>\n",
       "      <td>77</td>\n",
       "    </tr>\n",
       "    <tr>\n",
       "      <th>4</th>\n",
       "      <td>MOTO-PASAJEROS</td>\n",
       "      <td>46</td>\n",
       "    </tr>\n",
       "    <tr>\n",
       "      <th>5</th>\n",
       "      <td>MOTO-OBJETO FIJO</td>\n",
       "      <td>40</td>\n",
       "    </tr>\n",
       "    <tr>\n",
       "      <th>6</th>\n",
       "      <td>PEATON-CARGAS</td>\n",
       "      <td>38</td>\n",
       "    </tr>\n",
       "    <tr>\n",
       "      <th>7</th>\n",
       "      <td>AUTO-AUTO</td>\n",
       "      <td>31</td>\n",
       "    </tr>\n",
       "    <tr>\n",
       "      <th>8</th>\n",
       "      <td>PEATON-MOTO</td>\n",
       "      <td>30</td>\n",
       "    </tr>\n",
       "    <tr>\n",
       "      <th>9</th>\n",
       "      <td>MOTO-MOTO</td>\n",
       "      <td>25</td>\n",
       "    </tr>\n",
       "    <tr>\n",
       "      <th>10</th>\n",
       "      <td>AUTO-OBJETO FIJO</td>\n",
       "      <td>22</td>\n",
       "    </tr>\n",
       "    <tr>\n",
       "      <th>11</th>\n",
       "      <td>MULTIPLE</td>\n",
       "      <td>17</td>\n",
       "    </tr>\n",
       "    <tr>\n",
       "      <th>12</th>\n",
       "      <td>AUTO-CARGAS</td>\n",
       "      <td>14</td>\n",
       "    </tr>\n",
       "    <tr>\n",
       "      <th>13</th>\n",
       "      <td>BICICLETA-CARGAS</td>\n",
       "      <td>10</td>\n",
       "    </tr>\n",
       "  </tbody>\n",
       "</table>\n",
       "</div>"
      ],
      "text/plain": [
       "       participantes  cantidad\n",
       "0   PEATON-PASAJEROS       105\n",
       "1          MOTO-AUTO        83\n",
       "2        MOTO-CARGAS        78\n",
       "3        PEATON-AUTO        77\n",
       "4     MOTO-PASAJEROS        46\n",
       "5   MOTO-OBJETO FIJO        40\n",
       "6      PEATON-CARGAS        38\n",
       "7          AUTO-AUTO        31\n",
       "8        PEATON-MOTO        30\n",
       "9          MOTO-MOTO        25\n",
       "10  AUTO-OBJETO FIJO        22\n",
       "11          MULTIPLE        17\n",
       "12       AUTO-CARGAS        14\n",
       "13  BICICLETA-CARGAS        10"
      ]
     },
     "execution_count": 90,
     "metadata": {},
     "output_type": "execute_result"
    }
   ],
   "source": [
    "\n",
    "participantes = homicidios['PARTICIPANTES'].value_counts().reset_index()\n",
    "participantes.columns = ['participantes', 'cantidad']\n",
    "participantes = participantes.iloc[0:14,:] # dado que son muchas convinaciones posibles, se trunca en los primeros 15\n",
    "participantes"
   ]
  },
  {
   "cell_type": "code",
   "execution_count": 91,
   "metadata": {},
   "outputs": [
    {
     "data": {
      "image/png": "[encoded data removed]",
      "text/plain": [
       "<Figure size 720x432 with 1 Axes>"
      ]
     },
     "metadata": {
      "needs_background": "light"
     },
     "output_type": "display_data"
    }
   ],
   "source": [
    "plt.figure(figsize=(10, 6))\n",
    "sns.barplot(x = \"participantes\", y = \"cantidad\", data = participantes)\n",
    "plt.xlabel(\"Participantes\")\n",
    "plt.ylabel(\"Cantidad de siniestros\")\n",
    "plt.title(\"Participantes en siniestros, cantidad de siniestros\")\n",
    "plt.xticks(rotation=90);"
   ]
  },
  {
   "cell_type": "markdown",
   "metadata": {},
   "source": [
    "La mayor cantidad de siniestros mortales se producen por la colision de un vehiculo de pasajeros contra un peaton. La diferencia de atropellos de este tipo contra los atropellos de auto contra peaton es notable. Tambien con las colisiones peaton - moto. Las colisiones peaton - moto presentan una siniestralidad similar al la de moto-moto."
   ]
  },
  {
   "cell_type": "markdown",
   "metadata": {},
   "source": [
    "### 1.2.12 Victimas del siniestro\n",
    "\n",
    "Se refiere a las partes afectadas por el siniestro. "
   ]
  },
  {
   "cell_type": "code",
   "execution_count": 93,
   "metadata": {},
   "outputs": [
    {
     "data": {
      "text/html": [
       "<div>\n",
       "<style scoped>\n",
       "    .dataframe tbody tr th:only-of-type {\n",
       "        vertical-align: middle;\n",
       "    }\n",
       "\n",
       "    .dataframe tbody tr th {\n",
       "        vertical-align: top;\n",
       "    }\n",
       "\n",
       "    .dataframe thead th {\n",
       "        text-align: right;\n",
       "    }\n",
       "</style>\n",
       "<table border=\"1\" class=\"dataframe\">\n",
       "  <thead>\n",
       "    <tr style=\"text-align: right;\">\n",
       "      <th></th>\n",
       "      <th>victimas</th>\n",
       "      <th>cantidad</th>\n",
       "    </tr>\n",
       "  </thead>\n",
       "  <tbody>\n",
       "    <tr>\n",
       "      <th>0</th>\n",
       "      <td>MOTO</td>\n",
       "      <td>295</td>\n",
       "    </tr>\n",
       "    <tr>\n",
       "      <th>1</th>\n",
       "      <td>PEATON</td>\n",
       "      <td>264</td>\n",
       "    </tr>\n",
       "    <tr>\n",
       "      <th>2</th>\n",
       "      <td>AUTO</td>\n",
       "      <td>83</td>\n",
       "    </tr>\n",
       "    <tr>\n",
       "      <th>3</th>\n",
       "      <td>BICICLETA</td>\n",
       "      <td>29</td>\n",
       "    </tr>\n",
       "    <tr>\n",
       "      <th>4</th>\n",
       "      <td>SD</td>\n",
       "      <td>9</td>\n",
       "    </tr>\n",
       "    <tr>\n",
       "      <th>5</th>\n",
       "      <td>CARGAS</td>\n",
       "      <td>7</td>\n",
       "    </tr>\n",
       "    <tr>\n",
       "      <th>6</th>\n",
       "      <td>PASAJEROS</td>\n",
       "      <td>5</td>\n",
       "    </tr>\n",
       "    <tr>\n",
       "      <th>7</th>\n",
       "      <td>MOVIL</td>\n",
       "      <td>2</td>\n",
       "    </tr>\n",
       "    <tr>\n",
       "      <th>8</th>\n",
       "      <td>OBJETO FIJO</td>\n",
       "      <td>1</td>\n",
       "    </tr>\n",
       "    <tr>\n",
       "      <th>9</th>\n",
       "      <td>PEATON_MOTO</td>\n",
       "      <td>1</td>\n",
       "    </tr>\n",
       "  </tbody>\n",
       "</table>\n",
       "</div>"
      ],
      "text/plain": [
       "      victimas  cantidad\n",
       "0         MOTO       295\n",
       "1       PEATON       264\n",
       "2         AUTO        83\n",
       "3    BICICLETA        29\n",
       "4           SD         9\n",
       "5       CARGAS         7\n",
       "6    PASAJEROS         5\n",
       "7        MOVIL         2\n",
       "8  OBJETO FIJO         1\n",
       "9  PEATON_MOTO         1"
      ]
     },
     "execution_count": 93,
     "metadata": {},
     "output_type": "execute_result"
    }
   ],
   "source": [
    "victimas = homicidios['VICTIMA'].value_counts().reset_index()\n",
    "victimas.columns = ['victimas', 'cantidad']\n",
    "\n",
    "victimas"
   ]
  },
  {
   "cell_type": "code",
   "execution_count": 91,
   "metadata": {},
   "outputs": [
    {
     "data": {
      "image/png": "[encoded data removed]",
      "text/plain": [
       "<Figure size 720x432 with 1 Axes>"
      ]
     },
     "metadata": {
      "needs_background": "light"
     },
     "output_type": "display_data"
    }
   ],
   "source": [
    "plt.figure(figsize=(10, 6))\n",
    "sns.barplot(x = \"victimas\", y = \"cantidad\", data = victimas)\n",
    "plt.xlabel(\"Victimas del siniestro\")\n",
    "plt.ylabel(\"Cantidad de víctimas\")\n",
    "plt.title(\"Victimas del siniestro, cantidad de muertes\")\n",
    "plt.xticks(rotation=90);"
   ]
  },
  {
   "cell_type": "markdown",
   "metadata": {},
   "source": [
    "La mayoria de las victimas en accidentes de transito son motociclistas y peatones.\n",
    "\n",
    "No confundir con la seccion [1.2.11](#1.2.11-Participantes-en-el-siniestro) en donde cuenta la cantidad de siniestros de cada tipo y en donde el siniestro pasajeros-peaton es el mas numeroso. si se ve en esa misma seccion puede verse que el segundo tipo de siniestro y el tercero involucran a una moto.\n"
   ]
  },
  {
   "cell_type": "markdown",
   "metadata": {},
   "source": [
    "### 1.2.13 Acusado del siniestro\n",
    "\n",
    "Aunque no implique culpabilidad legal se define como quien resulto acusado del siniestro."
   ]
  },
  {
   "cell_type": "code",
   "execution_count": 94,
   "metadata": {},
   "outputs": [
    {
     "data": {
      "text/html": [
       "<div>\n",
       "<style scoped>\n",
       "    .dataframe tbody tr th:only-of-type {\n",
       "        vertical-align: middle;\n",
       "    }\n",
       "\n",
       "    .dataframe tbody tr th {\n",
       "        vertical-align: top;\n",
       "    }\n",
       "\n",
       "    .dataframe thead th {\n",
       "        text-align: right;\n",
       "    }\n",
       "</style>\n",
       "<table border=\"1\" class=\"dataframe\">\n",
       "  <thead>\n",
       "    <tr style=\"text-align: right;\">\n",
       "      <th></th>\n",
       "      <th>acusado</th>\n",
       "      <th>cantidad</th>\n",
       "    </tr>\n",
       "  </thead>\n",
       "  <tbody>\n",
       "    <tr>\n",
       "      <th>0</th>\n",
       "      <td>AUTO</td>\n",
       "      <td>204</td>\n",
       "    </tr>\n",
       "    <tr>\n",
       "      <th>1</th>\n",
       "      <td>PASAJEROS</td>\n",
       "      <td>173</td>\n",
       "    </tr>\n",
       "    <tr>\n",
       "      <th>2</th>\n",
       "      <td>CARGAS</td>\n",
       "      <td>146</td>\n",
       "    </tr>\n",
       "    <tr>\n",
       "      <th>3</th>\n",
       "      <td>OBJETO FIJO</td>\n",
       "      <td>62</td>\n",
       "    </tr>\n",
       "    <tr>\n",
       "      <th>4</th>\n",
       "      <td>MOTO</td>\n",
       "      <td>57</td>\n",
       "    </tr>\n",
       "    <tr>\n",
       "      <th>5</th>\n",
       "      <td>SD</td>\n",
       "      <td>23</td>\n",
       "    </tr>\n",
       "    <tr>\n",
       "      <th>6</th>\n",
       "      <td>MULTIPLE</td>\n",
       "      <td>17</td>\n",
       "    </tr>\n",
       "    <tr>\n",
       "      <th>7</th>\n",
       "      <td>BICICLETA</td>\n",
       "      <td>7</td>\n",
       "    </tr>\n",
       "    <tr>\n",
       "      <th>8</th>\n",
       "      <td>OTRO</td>\n",
       "      <td>6</td>\n",
       "    </tr>\n",
       "    <tr>\n",
       "      <th>9</th>\n",
       "      <td>TREN</td>\n",
       "      <td>1</td>\n",
       "    </tr>\n",
       "  </tbody>\n",
       "</table>\n",
       "</div>"
      ],
      "text/plain": [
       "       acusado  cantidad\n",
       "0         AUTO       204\n",
       "1    PASAJEROS       173\n",
       "2       CARGAS       146\n",
       "3  OBJETO FIJO        62\n",
       "4         MOTO        57\n",
       "5           SD        23\n",
       "6     MULTIPLE        17\n",
       "7    BICICLETA         7\n",
       "8         OTRO         6\n",
       "9         TREN         1"
      ]
     },
     "execution_count": 94,
     "metadata": {},
     "output_type": "execute_result"
    }
   ],
   "source": [
    "acusados = homicidios['ACUSADO'].value_counts().reset_index()\n",
    "acusados.columns = ['acusado', 'cantidad']\n",
    "acusados"
   ]
  },
  {
   "cell_type": "code",
   "execution_count": 96,
   "metadata": {},
   "outputs": [
    {
     "data": {
      "image/png": "[encoded data removed]",
      "text/plain": [
       "<Figure size 720x432 with 1 Axes>"
      ]
     },
     "metadata": {
      "needs_background": "light"
     },
     "output_type": "display_data"
    }
   ],
   "source": [
    "plt.figure(figsize=(10, 6))\n",
    "sns.barplot(x = \"acusado\", y = \"cantidad\", data = acusados)\n",
    "plt.xlabel(\"Acusados siniestro\")\n",
    "plt.ylabel(\"Cantidad de víctimas\")\n",
    "plt.title(\"Acusados del siniestro, cantidad de muertes\");\n",
    "#plt.xticks(rotation=90);"
   ]
  },
  {
   "cell_type": "markdown",
   "metadata": {},
   "source": [
    "Puede verse de nuevo aqui la relacion con los graficos anteriores. Donde las motos y los peatones eran las principales víctimas de los accidentes. Ahora bien, los acusados son los autos, vehiculos de pasajeros y de cargas."
   ]
  },
  {
   "cell_type": "markdown",
   "metadata": {},
   "source": [
    "# 2. Análisis del Dataframe homicidios_victimas"
   ]
  },
  {
   "cell_type": "markdown",
   "metadata": {},
   "source": [
    "## 2.1 Transformaciones\n",
    "\n",
    "Se realizan algunas transformaciones al dataframe, modificando valores erroneos, cambiando de tipos las variables y agregando algunos campos."
   ]
  },
  {
   "cell_type": "code",
   "execution_count": 97,
   "metadata": {},
   "outputs": [],
   "source": [
    "homicidios_victimas = pd.read_pickle('homicidios_victimas.pkl')\n",
    "# se pasan a int los valores de la columna edad. Los valores 'SD' se remplazan por 0 para poder tratar con enteros. son 53 personas aproximadamente.\n",
    "homicidios_victimas['EDAD'] = homicidios_victimas['EDAD'].replace('SD', 0).astype(int) \n",
    "\n",
    "\n",
    "#Se genera una nueva columna con el rango etario. para la eleccion de los rangos se consira esto: https://economipedia.com/definiciones/segmentacion-por-edad.html \n",
    "# y ademas que en argentinapara poder sacar registro de conduccion de moto es necesario tener mas de 16 años.\n",
    "bins = [0, 16, 27, 40, 60, 80, 120]  # Límites de los intervalos\n",
    "etiquetas = ['menor de 16', 'entre 16 y 27', 'entre 27 y 40', 'entre 40 y 60', 'entre 60 y 75', 'mayor de 75']  # Etiquetas para cada intervalo\n",
    "\n",
    "\n",
    "homicidios_victimas.insert(9,column='rango_etario', value='a')\n",
    "homicidios_victimas['rango_etario'] = pd.cut(homicidios_victimas['EDAD'], bins=bins, labels=etiquetas, right=True, ordered=False)"
   ]
  },
  {
   "cell_type": "markdown",
   "metadata": {},
   "source": [
    "## 2.2 Análisis de los campos de la tabla homicidios victimas"
   ]
  },
  {
   "cell_type": "markdown",
   "metadata": {},
   "source": [
    "### 2.2.1 ID_hecho\n",
    "\n",
    "Este campo contiene los ID de la tabla de hechos analizada con anterioridad. Pueden verse valores repetidos y eso es porque como se vio antes, en todos los accidentes registrados se han producido víctimas, pero en algunos casos el numero es mayor a 1."
   ]
  },
  {
   "cell_type": "code",
   "execution_count": 102,
   "metadata": {},
   "outputs": [
    {
     "name": "stdout",
     "output_type": "stream",
     "text": [
      "Cantidad de registros de ID sin repetir:  696 , cantidad de registros totales:  717\n"
     ]
    }
   ],
   "source": [
    "print('Cantidad de registros de ID sin repetir: ', homicidios_victimas['ID_hecho'].unique().size, ', cantidad de registros totales: ', len(homicidios_victimas))"
   ]
  },
  {
   "cell_type": "markdown",
   "metadata": {},
   "source": [
    "### 2.2.2 Fecha\n",
    "\n",
    "Al igual que en la tabla anterior, los datos del dataframe homicidios_victimas  van desde:  2016-01-01 hasta:  2021-12-30"
   ]
  },
  {
   "cell_type": "code",
   "execution_count": 93,
   "metadata": {},
   "outputs": [
    {
     "name": "stdout",
     "output_type": "stream",
     "text": [
      "Los datos del dataframe homicidios_victimas  van desde:  2016-01-01 00:00:00 hasta:  2021-12-30 00:00:00\n"
     ]
    }
   ],
   "source": [
    "print('Los datos del dataframe homicidios_victimas  van desde: ', homicidios_victimas.FECHA.min(), 'hasta: ', homicidios_victimas.FECHA.max())"
   ]
  },
  {
   "cell_type": "code",
   "execution_count": 94,
   "metadata": {},
   "outputs": [
    {
     "name": "stdout",
     "output_type": "stream",
     "text": [
      "desde:  2016 hasta:  2021\n"
     ]
    }
   ],
   "source": [
    "print('desde: ', min(homicidios_victimas['AAAA']), 'hasta: ', max(homicidios_victimas['AAAA']))"
   ]
  },
  {
   "cell_type": "code",
   "execution_count": 95,
   "metadata": {},
   "outputs": [
    {
     "name": "stdout",
     "output_type": "stream",
     "text": [
      "mes min:  1 mes max:  12 dia min:  1 max dia:  31\n"
     ]
    }
   ],
   "source": [
    "print('mes min: ', min(homicidios_victimas['MM']), 'mes max: ', max(homicidios_victimas['MM']), 'dia min: ', min(homicidios_victimas['DD']), 'max dia: ', max(homicidios_victimas['DD']))"
   ]
  },
  {
   "cell_type": "markdown",
   "metadata": {},
   "source": [
    "### 2.2.3 Rol de las víctimas en el siniestro"
   ]
  },
  {
   "cell_type": "code",
   "execution_count": 117,
   "metadata": {},
   "outputs": [
    {
     "data": {
      "text/html": [
       "<div>\n",
       "<style scoped>\n",
       "    .dataframe tbody tr th:only-of-type {\n",
       "        vertical-align: middle;\n",
       "    }\n",
       "\n",
       "    .dataframe tbody tr th {\n",
       "        vertical-align: top;\n",
       "    }\n",
       "\n",
       "    .dataframe thead th {\n",
       "        text-align: right;\n",
       "    }\n",
       "</style>\n",
       "<table border=\"1\" class=\"dataframe\">\n",
       "  <thead>\n",
       "    <tr style=\"text-align: right;\">\n",
       "      <th></th>\n",
       "      <th>rol</th>\n",
       "      <th>cantidad</th>\n",
       "    </tr>\n",
       "  </thead>\n",
       "  <tbody>\n",
       "    <tr>\n",
       "      <th>0</th>\n",
       "      <td>CONDUCTOR</td>\n",
       "      <td>330</td>\n",
       "    </tr>\n",
       "    <tr>\n",
       "      <th>1</th>\n",
       "      <td>PEATON</td>\n",
       "      <td>267</td>\n",
       "    </tr>\n",
       "    <tr>\n",
       "      <th>2</th>\n",
       "      <td>PASAJERO_ACOMPAÑANTE</td>\n",
       "      <td>80</td>\n",
       "    </tr>\n",
       "    <tr>\n",
       "      <th>3</th>\n",
       "      <td>CICLISTA</td>\n",
       "      <td>29</td>\n",
       "    </tr>\n",
       "    <tr>\n",
       "      <th>4</th>\n",
       "      <td>SD</td>\n",
       "      <td>11</td>\n",
       "    </tr>\n",
       "  </tbody>\n",
       "</table>\n",
       "</div>"
      ],
      "text/plain": [
       "                    rol  cantidad\n",
       "0             CONDUCTOR       330\n",
       "1                PEATON       267\n",
       "2  PASAJERO_ACOMPAÑANTE        80\n",
       "3              CICLISTA        29\n",
       "4                    SD        11"
      ]
     },
     "execution_count": 117,
     "metadata": {},
     "output_type": "execute_result"
    }
   ],
   "source": [
    "rol = homicidios_victimas['ROL'].value_counts().reset_index()\n",
    "rol.columns = ['rol', 'cantidad']\n",
    "rol"
   ]
  },
  {
   "cell_type": "code",
   "execution_count": 122,
   "metadata": {},
   "outputs": [
    {
     "name": "stdout",
     "output_type": "stream",
     "text": [
      "La cantidad de victimas conductores que conducian una moto es :  261\n"
     ]
    }
   ],
   "source": [
    "print('La cantidad de victimas conductores que conducian una moto es : ', homicidios_victimas.loc[(homicidios_victimas['ROL']=='CONDUCTOR') & (homicidios_victimas['VICTIMA']=='MOTO')].count()[0])"
   ]
  },
  {
   "cell_type": "markdown",
   "metadata": {},
   "source": [
    "De los 330 muertos conductores, la mayoría (261/330) conducían motos, con lo cual se verifica lo comentado en el otro dataframe en la columna Victima del siniestro."
   ]
  },
  {
   "cell_type": "markdown",
   "metadata": {},
   "source": [
    "### 2.2.4 Sexo de las victimas"
   ]
  },
  {
   "cell_type": "code",
   "execution_count": 124,
   "metadata": {},
   "outputs": [
    {
     "data": {
      "text/html": [
       "<div>\n",
       "<style scoped>\n",
       "    .dataframe tbody tr th:only-of-type {\n",
       "        vertical-align: middle;\n",
       "    }\n",
       "\n",
       "    .dataframe tbody tr th {\n",
       "        vertical-align: top;\n",
       "    }\n",
       "\n",
       "    .dataframe thead th {\n",
       "        text-align: right;\n",
       "    }\n",
       "</style>\n",
       "<table border=\"1\" class=\"dataframe\">\n",
       "  <thead>\n",
       "    <tr style=\"text-align: right;\">\n",
       "      <th></th>\n",
       "      <th>sexo</th>\n",
       "      <th>cantidad</th>\n",
       "    </tr>\n",
       "  </thead>\n",
       "  <tbody>\n",
       "    <tr>\n",
       "      <th>0</th>\n",
       "      <td>MASCULINO</td>\n",
       "      <td>545</td>\n",
       "    </tr>\n",
       "    <tr>\n",
       "      <th>1</th>\n",
       "      <td>FEMENINO</td>\n",
       "      <td>166</td>\n",
       "    </tr>\n",
       "    <tr>\n",
       "      <th>2</th>\n",
       "      <td>SD</td>\n",
       "      <td>6</td>\n",
       "    </tr>\n",
       "  </tbody>\n",
       "</table>\n",
       "</div>"
      ],
      "text/plain": [
       "        sexo  cantidad\n",
       "0  MASCULINO       545\n",
       "1   FEMENINO       166\n",
       "2         SD         6"
      ]
     },
     "execution_count": 124,
     "metadata": {},
     "output_type": "execute_result"
    }
   ],
   "source": [
    "rol = homicidios_victimas['SEXO'].value_counts().reset_index()\n",
    "rol.columns = ['sexo', 'cantidad']\n",
    "rol"
   ]
  },
  {
   "cell_type": "code",
   "execution_count": 125,
   "metadata": {},
   "outputs": [
    {
     "data": {
      "image/png": "[encoded data removed]",
      "text/plain": [
       "<Figure size 720x720 with 1 Axes>"
      ]
     },
     "metadata": {},
     "output_type": "display_data"
    }
   ],
   "source": [
    "data = rol['cantidad']\n",
    "labels = rol['sexo']\n",
    "colors = sns.color_palette('bright')\n",
    "plt.figure(figsize=(10, 10))\n",
    "# Crear el gráfico de torta\n",
    "pie = plt.pie(data, labels=labels, colors=colors, autopct='%0.0f%%')\n",
    "plt.gca().set_facecolor('black')  # Establecer el fondo negro\n",
    "\n",
    "# Cambiar el color de las etiquetas a blanco\n",
    "for label in pie[1]:\n",
    "    label.set_color('red')\n",
    "plt.legend()\n",
    "plt.title(\"Porcentaje de victimas por sexo\")\n",
    "plt.show()"
   ]
  },
  {
   "cell_type": "markdown",
   "metadata": {},
   "source": [
    "### 2.2.5 Edad de las víctimas\n",
    "\n",
    "Habrá que tene una consideracion aqui y es que en algunos registros la edad no estaba registrada. En la seccion [transformaciones](#2.1-Transformaciones) se cambiaron esos valores faltantes por 0. En total se realizaron 53 transformaciones."
   ]
  },
  {
   "cell_type": "code",
   "execution_count": 98,
   "metadata": {},
   "outputs": [
    {
     "data": {
      "text/plain": [
       "53"
      ]
     },
     "execution_count": 98,
     "metadata": {},
     "output_type": "execute_result"
    }
   ],
   "source": [
    "homicidios_victimas['EDAD'].loc[homicidios_victimas['EDAD']==0].count()"
   ]
  },
  {
   "cell_type": "code",
   "execution_count": 99,
   "metadata": {},
   "outputs": [
    {
     "data": {
      "text/plain": [
       "count    717.000000\n",
       "mean      39.050209\n",
       "std       22.010669\n",
       "min        0.000000\n",
       "25%       24.000000\n",
       "50%       35.000000\n",
       "75%       55.000000\n",
       "max       95.000000\n",
       "Name: EDAD, dtype: float64"
      ]
     },
     "execution_count": 99,
     "metadata": {},
     "output_type": "execute_result"
    }
   ],
   "source": [
    "homicidios_victimas['EDAD'].describe() # este describe puede un poco de error por lo mencionado anteriormente"
   ]
  },
  {
   "cell_type": "markdown",
   "metadata": {},
   "source": [
    "### 2.2.6 Rango etario de las victimas victimas (parte afectada del accidente) y vehículo de la victima\n",
    "Esta columna fue creada en la seccion [transformaciones](#2.1-Transformaciones) considerando las definiciones de  [economipedia](https://economipedia.com/definiciones/segmentacion-por-edad.html) y ademas considerando que la edad mínima para tener un registro de conducir es de 16 años para moto y 17 años para vehiculos particulares."
   ]
  },
  {
   "cell_type": "code",
   "execution_count": 28,
   "metadata": {},
   "outputs": [
    {
     "data": {
      "text/html": [
       "<div>\n",
       "<style scoped>\n",
       "    .dataframe tbody tr th:only-of-type {\n",
       "        vertical-align: middle;\n",
       "    }\n",
       "\n",
       "    .dataframe tbody tr th {\n",
       "        vertical-align: top;\n",
       "    }\n",
       "\n",
       "    .dataframe thead th {\n",
       "        text-align: right;\n",
       "    }\n",
       "</style>\n",
       "<table border=\"1\" class=\"dataframe\">\n",
       "  <thead>\n",
       "    <tr style=\"text-align: right;\">\n",
       "      <th></th>\n",
       "      <th>rango_etario</th>\n",
       "      <th>cantidad</th>\n",
       "    </tr>\n",
       "  </thead>\n",
       "  <tbody>\n",
       "    <tr>\n",
       "      <th>0</th>\n",
       "      <td>entre 27 y 40</td>\n",
       "      <td>201</td>\n",
       "    </tr>\n",
       "    <tr>\n",
       "      <th>1</th>\n",
       "      <td>entre 40 y 60</td>\n",
       "      <td>162</td>\n",
       "    </tr>\n",
       "    <tr>\n",
       "      <th>2</th>\n",
       "      <td>entre 16 y 27</td>\n",
       "      <td>159</td>\n",
       "    </tr>\n",
       "    <tr>\n",
       "      <th>3</th>\n",
       "      <td>entre 60 y 75</td>\n",
       "      <td>94</td>\n",
       "    </tr>\n",
       "    <tr>\n",
       "      <th>4</th>\n",
       "      <td>mayor de 75</td>\n",
       "      <td>30</td>\n",
       "    </tr>\n",
       "    <tr>\n",
       "      <th>5</th>\n",
       "      <td>menor de 16</td>\n",
       "      <td>18</td>\n",
       "    </tr>\n",
       "  </tbody>\n",
       "</table>\n",
       "</div>"
      ],
      "text/plain": [
       "    rango_etario  cantidad\n",
       "0  entre 27 y 40       201\n",
       "1  entre 40 y 60       162\n",
       "2  entre 16 y 27       159\n",
       "3  entre 60 y 75        94\n",
       "4    mayor de 75        30\n",
       "5    menor de 16        18"
      ]
     },
     "execution_count": 28,
     "metadata": {},
     "output_type": "execute_result"
    }
   ],
   "source": [
    "rango_etario = homicidios_victimas['rango_etario'].value_counts().reset_index()\n",
    "rango_etario.columns = ['rango_etario', 'cantidad']\n",
    "rango_etario"
   ]
  },
  {
   "cell_type": "code",
   "execution_count": 101,
   "metadata": {},
   "outputs": [
    {
     "data": {
      "text/html": [
       "<div>\n",
       "<style scoped>\n",
       "    .dataframe tbody tr th:only-of-type {\n",
       "        vertical-align: middle;\n",
       "    }\n",
       "\n",
       "    .dataframe tbody tr th {\n",
       "        vertical-align: top;\n",
       "    }\n",
       "\n",
       "    .dataframe thead th {\n",
       "        text-align: right;\n",
       "    }\n",
       "</style>\n",
       "<table border=\"1\" class=\"dataframe\">\n",
       "  <thead>\n",
       "    <tr style=\"text-align: right;\">\n",
       "      <th></th>\n",
       "      <th>victima</th>\n",
       "      <th>cantidad</th>\n",
       "    </tr>\n",
       "  </thead>\n",
       "  <tbody>\n",
       "    <tr>\n",
       "      <th>0</th>\n",
       "      <td>MOTO</td>\n",
       "      <td>303</td>\n",
       "    </tr>\n",
       "    <tr>\n",
       "      <th>1</th>\n",
       "      <td>PEATON</td>\n",
       "      <td>267</td>\n",
       "    </tr>\n",
       "    <tr>\n",
       "      <th>2</th>\n",
       "      <td>AUTO</td>\n",
       "      <td>94</td>\n",
       "    </tr>\n",
       "    <tr>\n",
       "      <th>3</th>\n",
       "      <td>BICICLETA</td>\n",
       "      <td>29</td>\n",
       "    </tr>\n",
       "    <tr>\n",
       "      <th>4</th>\n",
       "      <td>SD</td>\n",
       "      <td>9</td>\n",
       "    </tr>\n",
       "    <tr>\n",
       "      <th>5</th>\n",
       "      <td>CARGAS</td>\n",
       "      <td>7</td>\n",
       "    </tr>\n",
       "    <tr>\n",
       "      <th>6</th>\n",
       "      <td>PASAJEROS</td>\n",
       "      <td>5</td>\n",
       "    </tr>\n",
       "    <tr>\n",
       "      <th>7</th>\n",
       "      <td>MOVIL</td>\n",
       "      <td>3</td>\n",
       "    </tr>\n",
       "  </tbody>\n",
       "</table>\n",
       "</div>"
      ],
      "text/plain": [
       "     victima  cantidad\n",
       "0       MOTO       303\n",
       "1     PEATON       267\n",
       "2       AUTO        94\n",
       "3  BICICLETA        29\n",
       "4         SD         9\n",
       "5     CARGAS         7\n",
       "6  PASAJEROS         5\n",
       "7      MOVIL         3"
      ]
     },
     "execution_count": 101,
     "metadata": {},
     "output_type": "execute_result"
    }
   ],
   "source": [
    "victimas = homicidios_victimas['VICTIMA'].value_counts().reset_index()\n",
    "victimas.columns = ['victima', 'cantidad']\n",
    "victimas"
   ]
  },
  {
   "cell_type": "markdown",
   "metadata": {},
   "source": [
    "En el siguiente grafico puede verse el vehiculo de la victima por rango etario."
   ]
  },
  {
   "cell_type": "code",
   "execution_count": 47,
   "metadata": {},
   "outputs": [
    {
     "data": {
      "image/png": "[encoded data removed]",
      "text/plain": [
       "<Figure size 1296x432 with 6 Axes>"
      ]
     },
     "metadata": {
      "needs_background": "light"
     },
     "output_type": "display_data"
    }
   ],
   "source": [
    "rango0 = homicidios_victimas.loc[(homicidios_victimas['rango_etario']== 'menor de 16')]\n",
    "rol0 = rango0['VICTIMA'].value_counts().reset_index()\n",
    "rol0.columns = ['victima', 'cantidad']\n",
    "\n",
    "rango1 = homicidios_victimas.loc[(homicidios_victimas['rango_etario']== 'entre 16 y 27')]\n",
    "rol1 = rango1['VICTIMA'].value_counts().reset_index()\n",
    "rol1.columns = ['victima', 'cantidad']\n",
    "\n",
    "rango2 = homicidios_victimas.loc[(homicidios_victimas['rango_etario']== 'entre 27 y 40')]\n",
    "rol2 = rango2['VICTIMA'].value_counts().reset_index()\n",
    "rol2.columns = ['victima', 'cantidad']\n",
    "\n",
    "rango3 = homicidios_victimas.loc[(homicidios_victimas['rango_etario']== 'entre 40 y 60')]\n",
    "rol3 = rango3['VICTIMA'].value_counts().reset_index()\n",
    "rol3.columns = ['victima', 'cantidad']\n",
    "\n",
    "rango4 = homicidios_victimas.loc[(homicidios_victimas['rango_etario']== 'entre 60 y 75')]\n",
    "rol4 = rango4['VICTIMA'].value_counts().reset_index()\n",
    "rol4.columns = ['victima', 'cantidad']\n",
    "\n",
    "\n",
    "rango5 = homicidios_victimas.loc[(homicidios_victimas['rango_etario']== 'mayor de 75')]\n",
    "rol5 = rango5['VICTIMA'].value_counts().reset_index()\n",
    "rol5.columns = ['victima', 'cantidad']\n",
    "\n",
    "colores = {\"AUTO\": \"blue\", \"MOTO\": \"green\", \"PEATON\": \"red\", \"BICICLETA\": \"orange\", 'SD': \"purple\", 'CARGAS': \"brown\", 'PASAJEROS': \"pink\", 'MOVIL': \"gray\"}\n",
    "#fig, axs = plt.subplots(1,2, figsize=(3,3))\n",
    "fig, axs = plt.subplots(1, 6, figsize=(18, 6), sharey=True, constrained_layout=True)\n",
    "\n",
    "\n",
    "\n",
    "sns.barplot(x=\"victima\", y=\"cantidad\", data=rol0, ax=axs[0], palette=colores)\n",
    "axs[0].set_xlabel(\" \")\n",
    "axs[0].set_ylabel(\"Cantidad de víctimas\", fontsize=14)\n",
    "axs[0].set_title(\" Víctimas menores de 16 años\")\n",
    "\n",
    "sns.barplot(x=\"victima\", y=\"cantidad\", data=rol1, ax=axs[1], palette=colores)\n",
    "axs[1].set_xlabel(\" \")\n",
    "axs[1].set_ylabel(\" \")\n",
    "axs[1].set_title(\"Víctimas entre 16 y 27 años\")\n",
    "\n",
    "\n",
    "sns.barplot(x = \"victima\", y = \"cantidad\", data=rol2, ax=axs[2], palette=colores)\n",
    "axs[2].set_xlabel(\"Vehículo de la víctima\", fontsize=14)\n",
    "axs[2].set_ylabel(\" \")\n",
    "axs[2].set_title(\"Víctimas entre 27 y 40 años\");\n",
    "\n",
    "\n",
    "sns.barplot(x = \"victima\", y = \"cantidad\", data=rol3, ax=axs[3], palette=colores)\n",
    "axs[3].set_xlabel(\" \")\n",
    "axs[3].set_ylabel(\" \")\n",
    "axs[3].set_title(\"Víctimas entre 40 y 60 años\");\n",
    "\n",
    "\n",
    "sns.barplot(x = \"victima\", y = \"cantidad\", data=rol4, ax=axs[4], palette=colores)\n",
    "axs[4].set_xlabel(\" \")\n",
    "axs[4].set_ylabel(\" \")\n",
    "axs[4].set_title(\"Víctimas entre 60 y 75 años\");\n",
    "\n",
    "\n",
    "sns.barplot(x = \"victima\", y = \"cantidad\", data=rol5, ax=axs[5], palette=colores)\n",
    "axs[5].set_xlabel(\" \")\n",
    "axs[5].set_ylabel(\" \")\n",
    "axs[5].set_title(\"Víctimas mayores a 75 años\");\n",
    "\n",
    "\n",
    "\n",
    "for ax in axs:\n",
    "    ax.set_xticklabels(ax.get_xticklabels(), rotation=90)\n",
    "\n",
    "#plt.tight_layout()\n",
    "\n",
    "plt.show()\n",
    "\n",
    "\n"
   ]
  },
  {
   "cell_type": "markdown",
   "metadata": {},
   "source": [
    "En este grafico puede verse las victimas segun el rango etario. En el rango de 16 a 27 años (\"adolescentes\") puede verse la gran diferencia de la principal causa de muerte respecto al rango que sigue de 27 a 40 años. Si bien en ambos es la moto, en el segundo caso la diferencia con respecto a peaton y a auto es mucho menor."
   ]
  }
 ],
 "metadata": {
  "kernelspec": {
   "display_name": "Python 3",
   "language": "python",
   "name": "python3"
  },
  "language_info": {
   "codemirror_mode": {
    "name": "ipython",
    "version": 3
   },
   "file_extension": ".py",
   "mimetype": "text/x-python",
   "name": "python",
   "nbconvert_exporter": "python",
   "pygments_lexer": "ipython3",
   "version": "3.9.10"
  },
  "orig_nbformat": 4
 },
 "nbformat": 4,
 "nbformat_minor": 2
}
