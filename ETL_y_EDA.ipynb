{
 "cells": [
  {
   "cell_type": "code",
   "execution_count": 2,
   "metadata": {},
   "outputs": [
    {
     "name": "stderr",
     "output_type": "stream",
     "text": [
      "c:\\Users\\Nahuel Elias\\AppData\\Local\\Programs\\Python\\Python39\\lib\\site-packages\\scipy\\__init__.py:146: UserWarning: A NumPy version >=1.17.3 and <1.25.0 is required for this version of SciPy (detected version 1.25.2\n",
      "  warnings.warn(f\"A NumPy version >={np_minversion} and <{np_maxversion}\"\n"
     ]
    }
   ],
   "source": [
    "import pandas as pd\n",
    "import numpy as np\n",
    "import re\n",
    "import matplotlib.pyplot as plt\n",
    "import seaborn as sns"
   ]
  },
  {
   "cell_type": "code",
   "execution_count": 4,
   "metadata": {},
   "outputs": [],
   "source": [
    "homicidios = pd.read_excel('homicidios.xlsx') # se refiere a la hoja hechos del xls homicidios\n",
    "homicidios_victimas= pd.read_excel('homicidios.xlsx', sheet_name=2) # se refiere a la hoja victimas del xls homicidios\n",
    "homicidios.to_pickle('homicidios.pkl')\n",
    "homicidios_victimas.to_pickle('homicidios_victimas.pkl')"
   ]
  },
  {
   "cell_type": "code",
   "execution_count": 3,
   "metadata": {},
   "outputs": [
    {
     "name": "stdout",
     "output_type": "stream",
     "text": [
      "<class 'pandas.core.frame.DataFrame'>\n",
      "RangeIndex: 696 entries, 0 to 695\n",
      "Data columns (total 21 columns):\n",
      " #   Column                 Non-Null Count  Dtype         \n",
      "---  ------                 --------------  -----         \n",
      " 0   ID                     696 non-null    object        \n",
      " 1   N_VICTIMAS             696 non-null    int64         \n",
      " 2   FECHA                  696 non-null    datetime64[ns]\n",
      " 3   AAAA                   696 non-null    int64         \n",
      " 4   MM                     696 non-null    int64         \n",
      " 5   DD                     696 non-null    int64         \n",
      " 6   HORA                   696 non-null    object        \n",
      " 7   HH                     696 non-null    object        \n",
      " 8   LUGAR_DEL_HECHO        696 non-null    object        \n",
      " 9   TIPO_DE_CALLE          696 non-null    object        \n",
      " 10  Calle                  695 non-null    object        \n",
      " 11  Altura                 129 non-null    float64       \n",
      " 12  Cruce                  525 non-null    object        \n",
      " 13  Dirección Normalizada  688 non-null    object        \n",
      " 14  COMUNA                 696 non-null    int64         \n",
      " 15  XY (CABA)              696 non-null    object        \n",
      " 16  pos x                  696 non-null    object        \n",
      " 17  pos y                  696 non-null    object        \n",
      " 18  PARTICIPANTES          696 non-null    object        \n",
      " 19  VICTIMA                696 non-null    object        \n",
      " 20  ACUSADO                696 non-null    object        \n",
      "dtypes: datetime64[ns](1), float64(1), int64(5), object(14)\n",
      "memory usage: 114.3+ KB\n"
     ]
    }
   ],
   "source": [
    "homicidios.info()"
   ]
  },
  {
   "cell_type": "markdown",
   "metadata": {},
   "source": [
    "### Los datos analizados van desde el 1 de enero del 2016 al 31 de diciembre del 2021"
   ]
  },
  {
   "cell_type": "code",
   "execution_count": 4,
   "metadata": {},
   "outputs": [
    {
     "name": "stdout",
     "output_type": "stream",
     "text": [
      "Los datos analizados van desde:  2016-01-01 00:00:00 hasta:  2021-12-30 00:00:00\n"
     ]
    }
   ],
   "source": [
    "print('Los datos analizados van desde: ', homicidios.FECHA.min(), 'hasta: ', homicidios.FECHA.max())"
   ]
  },
  {
   "cell_type": "code",
   "execution_count": 4,
   "metadata": {},
   "outputs": [
    {
     "name": "stdout",
     "output_type": "stream",
     "text": [
      "Cantidad de registros de ID sin repetir:  696 , cantidad de registros totales:  696\n"
     ]
    }
   ],
   "source": [
    "print('Cantidad de registros de ID sin repetir: ', homicidios['ID'].unique().size, ', cantidad de registros totales: ', len(homicidios))"
   ]
  },
  {
   "cell_type": "markdown",
   "metadata": {},
   "source": [
    "No hay valores repetidos para ID"
   ]
  },
  {
   "cell_type": "markdown",
   "metadata": {},
   "source": [
    "### Aumento de la población:\n",
    "\n",
    "Según el instituto nacional de Censos y Estadisticas de la Republica Argentina (INDEC), la población del distrito Ciudad Autonoma de Buenos Aires del censo del 2010 fue de 2890151 y en el 2022 3120612. Hay un aumento en el período del 8 %"
   ]
  },
  {
   "cell_type": "code",
   "execution_count": 7,
   "metadata": {},
   "outputs": [
    {
     "name": "stdout",
     "output_type": "stream",
     "text": [
      "Aumento de la poblacion entre censos 2010 y 2022 en %:  7.974012430492386\n"
     ]
    }
   ],
   "source": [
    "pob_2022 = 3120612\n",
    "pob_2010 = 2890151\n",
    "aumento = pob_2022-pob_2010\n",
    "aumentop = aumento/pob_2010*100\n",
    "print('Aumento de la poblacion entre censos 2010 y 2022 en %: ', aumentop)\n"
   ]
  },
  {
   "cell_type": "markdown",
   "metadata": {},
   "source": [
    "Para que sea mas real el ratio accidentes cada 100000 habitantes se construye una recta de interpolacion para poder calcular la poblacion en los años dados."
   ]
  },
  {
   "cell_type": "code",
   "execution_count": 8,
   "metadata": {},
   "outputs": [
    {
     "name": "stdout",
     "output_type": "stream",
     "text": [
      "Ordenada al origen:  -35712066.4326 pendiene:  19205.0833\n"
     ]
    }
   ],
   "source": [
    "m=round(aumento/(2022-2010), 4)\n",
    "ord_al_origen1 = pob_2022-m*2022\n",
    "\n",
    "print('Ordenada al origen: ', ord_al_origen1, 'pendiene: ', m)\n",
    "# valores para recta de interpolacion: ord_al_origen"
   ]
  },
  {
   "cell_type": "markdown",
   "metadata": {},
   "source": [
    "## Transformacion del dataframe homicidios:"
   ]
  },
  {
   "cell_type": "code",
   "execution_count": 140,
   "metadata": {},
   "outputs": [],
   "source": [
    "#Se Crea una columna con la poblacion de la Ciudad Autonoma de Buenos Aires. La estimacion es realizada interpolando los valores de poblacion entre el censo 2010 y 2022\n",
    "# y es funcion de la columna AAAA\n",
    "homicidios = pd.read_pickle('homicidios.pkl')\n",
    "homicidios.insert(2, column='Poblacion_CABA', value=ord_al_origen1+m*homicidios['AAAA'])\n",
    "homicidios['ID'] = homicidios['ID'].astype(str)\n",
    "homicidios['HH'] = homicidios['HH'].replace('SD', 0).astype(int)\n",
    "homicidios.insert(5, column='dia', value='a') \n",
    "homicidios.dia = homicidios.FECHA.dt.day_name(locale= 'es_ES.utf8')\n",
    "homicidios.dia = homicidios.dia.replace('Sã¡bado', 'Sabado')\n",
    "homicidios.dia = homicidios.dia.replace('Miã©rcoles', 'Miercoles')\n",
    "homicidios['TIPO_DE_CALLE'] = homicidios['TIPO_DE_CALLE'].replace(to_replace='GRAL PAZ', value='AUTOPISTA')"
   ]
  },
  {
   "cell_type": "code",
   "execution_count": 17,
   "metadata": {},
   "outputs": [],
   "source": [
    "#homicidios.info()"
   ]
  },
  {
   "cell_type": "markdown",
   "metadata": {},
   "source": [
    "### Número de victimas por accidente:"
   ]
  },
  {
   "cell_type": "code",
   "execution_count": 19,
   "metadata": {},
   "outputs": [
    {
     "data": {
      "text/html": [
       "<div>\n",
       "<style scoped>\n",
       "    .dataframe tbody tr th:only-of-type {\n",
       "        vertical-align: middle;\n",
       "    }\n",
       "\n",
       "    .dataframe tbody tr th {\n",
       "        vertical-align: top;\n",
       "    }\n",
       "\n",
       "    .dataframe thead th {\n",
       "        text-align: right;\n",
       "    }\n",
       "</style>\n",
       "<table border=\"1\" class=\"dataframe\">\n",
       "  <thead>\n",
       "    <tr style=\"text-align: right;\">\n",
       "      <th></th>\n",
       "      <th>Victimas por accidente</th>\n",
       "      <th>Cantidad de accidentes</th>\n",
       "    </tr>\n",
       "  </thead>\n",
       "  <tbody>\n",
       "    <tr>\n",
       "      <th>0</th>\n",
       "      <td>1</td>\n",
       "      <td>676</td>\n",
       "    </tr>\n",
       "    <tr>\n",
       "      <th>1</th>\n",
       "      <td>2</td>\n",
       "      <td>19</td>\n",
       "    </tr>\n",
       "    <tr>\n",
       "      <th>2</th>\n",
       "      <td>3</td>\n",
       "      <td>1</td>\n",
       "    </tr>\n",
       "  </tbody>\n",
       "</table>\n",
       "</div>"
      ],
      "text/plain": [
       "   Victimas por accidente  Cantidad de accidentes\n",
       "0                       1                     676\n",
       "1                       2                      19\n",
       "2                       3                       1"
      ]
     },
     "execution_count": 19,
     "metadata": {},
     "output_type": "execute_result"
    }
   ],
   "source": [
    "N_victimas= homicidios['N_VICTIMAS'].value_counts().reset_index()\n",
    "N_victimas.rename(columns={'index':'Victimas por accidente', 'N_VICTIMAS': 'Cantidad de accidentes'}, inplace=True)\n",
    "N_victimas"
   ]
  },
  {
   "cell_type": "markdown",
   "metadata": {},
   "source": [
    "En la mayoria de los accidentes hubo solo una victima fatal. Solo hubo un accidente que la cantidad de victimas fue 3"
   ]
  },
  {
   "cell_type": "markdown",
   "metadata": {},
   "source": [
    "### Cantidad de accidentes por dia de la semana"
   ]
  },
  {
   "cell_type": "code",
   "execution_count": 21,
   "metadata": {},
   "outputs": [
    {
     "data": {
      "text/html": [
       "<div>\n",
       "<style scoped>\n",
       "    .dataframe tbody tr th:only-of-type {\n",
       "        vertical-align: middle;\n",
       "    }\n",
       "\n",
       "    .dataframe tbody tr th {\n",
       "        vertical-align: top;\n",
       "    }\n",
       "\n",
       "    .dataframe thead th {\n",
       "        text-align: right;\n",
       "    }\n",
       "</style>\n",
       "<table border=\"1\" class=\"dataframe\">\n",
       "  <thead>\n",
       "    <tr style=\"text-align: right;\">\n",
       "      <th></th>\n",
       "      <th>index</th>\n",
       "      <th>dia</th>\n",
       "    </tr>\n",
       "  </thead>\n",
       "  <tbody>\n",
       "    <tr>\n",
       "      <th>0</th>\n",
       "      <td>Lunes</td>\n",
       "      <td>106</td>\n",
       "    </tr>\n",
       "    <tr>\n",
       "      <th>1</th>\n",
       "      <td>Sabado</td>\n",
       "      <td>103</td>\n",
       "    </tr>\n",
       "    <tr>\n",
       "      <th>2</th>\n",
       "      <td>Domingo</td>\n",
       "      <td>99</td>\n",
       "    </tr>\n",
       "    <tr>\n",
       "      <th>3</th>\n",
       "      <td>Martes</td>\n",
       "      <td>99</td>\n",
       "    </tr>\n",
       "    <tr>\n",
       "      <th>4</th>\n",
       "      <td>Miercoles</td>\n",
       "      <td>98</td>\n",
       "    </tr>\n",
       "    <tr>\n",
       "      <th>5</th>\n",
       "      <td>Viernes</td>\n",
       "      <td>97</td>\n",
       "    </tr>\n",
       "    <tr>\n",
       "      <th>6</th>\n",
       "      <td>Jueves</td>\n",
       "      <td>94</td>\n",
       "    </tr>\n",
       "  </tbody>\n",
       "</table>\n",
       "</div>"
      ],
      "text/plain": [
       "       index  dia\n",
       "0      Lunes  106\n",
       "1     Sabado  103\n",
       "2    Domingo   99\n",
       "3     Martes   99\n",
       "4  Miercoles   98\n",
       "5    Viernes   97\n",
       "6     Jueves   94"
      ]
     },
     "execution_count": 21,
     "metadata": {},
     "output_type": "execute_result"
    }
   ],
   "source": [
    "dia= homicidios['dia'].value_counts().reset_index()\n",
    "dia"
   ]
  },
  {
   "cell_type": "code",
   "execution_count": 22,
   "metadata": {},
   "outputs": [
    {
     "data": {
      "text/plain": [
       "Text(0.5, 1.0, 'Número de muertos por Día (del 01-01-2016 al 31-12-2021)')"
      ]
     },
     "execution_count": 22,
     "metadata": {},
     "output_type": "execute_result"
    },
    {
     "data": {
      "image/png": "[encoded data removed]",
      "text/plain": [
       "<Figure size 720x432 with 1 Axes>"
      ]
     },
     "metadata": {
      "needs_background": "light"
     },
     "output_type": "display_data"
    }
   ],
   "source": [
    "plt.figure(figsize=(10, 6))\n",
    "sns.countplot(x='dia', data=homicidios, order=homicidios['dia'].value_counts().index)\n",
    "plt.xlabel(\"Dia\")\n",
    "plt.ylabel(\"Cantidad de muertos por accidentes viales\")\n",
    "plt.title(\"Número de muertos por Día (del 01-01-2016 al 31-12-2021)\")"
   ]
  },
  {
   "cell_type": "markdown",
   "metadata": {},
   "source": [
    "Si bien el dia lunes es el dia con mayor accidentes y el jueves con menor, no hay una tendencia clara debido a que la diferencia entre valores es baja. "
   ]
  },
  {
   "cell_type": "markdown",
   "metadata": {},
   "source": [
    "### Accidentes por mes"
   ]
  },
  {
   "cell_type": "code",
   "execution_count": 23,
   "metadata": {},
   "outputs": [
    {
     "data": {
      "text/html": [
       "<div>\n",
       "<style scoped>\n",
       "    .dataframe tbody tr th:only-of-type {\n",
       "        vertical-align: middle;\n",
       "    }\n",
       "\n",
       "    .dataframe tbody tr th {\n",
       "        vertical-align: top;\n",
       "    }\n",
       "\n",
       "    .dataframe thead th {\n",
       "        text-align: right;\n",
       "    }\n",
       "</style>\n",
       "<table border=\"1\" class=\"dataframe\">\n",
       "  <thead>\n",
       "    <tr style=\"text-align: right;\">\n",
       "      <th></th>\n",
       "      <th>mes</th>\n",
       "      <th>cantidad</th>\n",
       "    </tr>\n",
       "  </thead>\n",
       "  <tbody>\n",
       "    <tr>\n",
       "      <th>0</th>\n",
       "      <td>12</td>\n",
       "      <td>78</td>\n",
       "    </tr>\n",
       "    <tr>\n",
       "      <th>1</th>\n",
       "      <td>11</td>\n",
       "      <td>67</td>\n",
       "    </tr>\n",
       "    <tr>\n",
       "      <th>2</th>\n",
       "      <td>8</td>\n",
       "      <td>65</td>\n",
       "    </tr>\n",
       "    <tr>\n",
       "      <th>3</th>\n",
       "      <td>1</td>\n",
       "      <td>62</td>\n",
       "    </tr>\n",
       "    <tr>\n",
       "      <th>4</th>\n",
       "      <td>5</td>\n",
       "      <td>60</td>\n",
       "    </tr>\n",
       "    <tr>\n",
       "      <th>5</th>\n",
       "      <td>6</td>\n",
       "      <td>58</td>\n",
       "    </tr>\n",
       "    <tr>\n",
       "      <th>6</th>\n",
       "      <td>2</td>\n",
       "      <td>56</td>\n",
       "    </tr>\n",
       "    <tr>\n",
       "      <th>7</th>\n",
       "      <td>3</td>\n",
       "      <td>51</td>\n",
       "    </tr>\n",
       "    <tr>\n",
       "      <th>8</th>\n",
       "      <td>7</td>\n",
       "      <td>51</td>\n",
       "    </tr>\n",
       "    <tr>\n",
       "      <th>9</th>\n",
       "      <td>10</td>\n",
       "      <td>51</td>\n",
       "    </tr>\n",
       "    <tr>\n",
       "      <th>10</th>\n",
       "      <td>4</td>\n",
       "      <td>50</td>\n",
       "    </tr>\n",
       "    <tr>\n",
       "      <th>11</th>\n",
       "      <td>9</td>\n",
       "      <td>47</td>\n",
       "    </tr>\n",
       "  </tbody>\n",
       "</table>\n",
       "</div>"
      ],
      "text/plain": [
       "    mes  cantidad\n",
       "0    12        78\n",
       "1    11        67\n",
       "2     8        65\n",
       "3     1        62\n",
       "4     5        60\n",
       "5     6        58\n",
       "6     2        56\n",
       "7     3        51\n",
       "8     7        51\n",
       "9    10        51\n",
       "10    4        50\n",
       "11    9        47"
      ]
     },
     "execution_count": 23,
     "metadata": {},
     "output_type": "execute_result"
    }
   ],
   "source": [
    "\n",
    "homicidios.nunique(axis=0, dropna=True) # observando la fila MM puede verse que se produjeron accidentes mortales durante todos los meses.\n",
    "mes= homicidios['MM'].value_counts().reset_index()\n",
    "mes.columns = ['mes', 'cantidad']\n",
    "mes"
   ]
  },
  {
   "cell_type": "code",
   "execution_count": 24,
   "metadata": {},
   "outputs": [
    {
     "data": {
      "text/plain": [
       "Text(0.5, 1.0, 'Número de muertos por meses (del 01-01-2016 al 31-12-2021)')"
      ]
     },
     "execution_count": 24,
     "metadata": {},
     "output_type": "execute_result"
    },
    {
     "data": {
      "image/png": "[encoded data removed]",
      "text/plain": [
       "<Figure size 720x432 with 1 Axes>"
      ]
     },
     "metadata": {
      "needs_background": "light"
     },
     "output_type": "display_data"
    }
   ],
   "source": [
    "plt.figure(figsize=(10, 6))\n",
    "sns.countplot(x='MM', data=homicidios)\n",
    "plt.xlabel(\"Mes\")\n",
    "plt.ylabel(\"Cantidad de muertos por accidentes viales\")\n",
    "plt.title(\"Número de muertos por meses (del 01-01-2016 al 31-12-2021)\")"
   ]
  },
  {
   "cell_type": "markdown",
   "metadata": {},
   "source": [
    "### Víctimas fatales por año"
   ]
  },
  {
   "cell_type": "code",
   "execution_count": 25,
   "metadata": {},
   "outputs": [
    {
     "data": {
      "text/html": [
       "<div>\n",
       "<style scoped>\n",
       "    .dataframe tbody tr th:only-of-type {\n",
       "        vertical-align: middle;\n",
       "    }\n",
       "\n",
       "    .dataframe tbody tr th {\n",
       "        vertical-align: top;\n",
       "    }\n",
       "\n",
       "    .dataframe thead th {\n",
       "        text-align: right;\n",
       "    }\n",
       "</style>\n",
       "<table border=\"1\" class=\"dataframe\">\n",
       "  <thead>\n",
       "    <tr style=\"text-align: right;\">\n",
       "      <th></th>\n",
       "      <th>Anio</th>\n",
       "      <th>Cantidad</th>\n",
       "    </tr>\n",
       "  </thead>\n",
       "  <tbody>\n",
       "    <tr>\n",
       "      <th>0</th>\n",
       "      <td>2016</td>\n",
       "      <td>144</td>\n",
       "    </tr>\n",
       "    <tr>\n",
       "      <th>1</th>\n",
       "      <td>2018</td>\n",
       "      <td>143</td>\n",
       "    </tr>\n",
       "    <tr>\n",
       "      <th>2</th>\n",
       "      <td>2017</td>\n",
       "      <td>131</td>\n",
       "    </tr>\n",
       "    <tr>\n",
       "      <th>3</th>\n",
       "      <td>2019</td>\n",
       "      <td>103</td>\n",
       "    </tr>\n",
       "    <tr>\n",
       "      <th>4</th>\n",
       "      <td>2021</td>\n",
       "      <td>97</td>\n",
       "    </tr>\n",
       "    <tr>\n",
       "      <th>5</th>\n",
       "      <td>2020</td>\n",
       "      <td>78</td>\n",
       "    </tr>\n",
       "  </tbody>\n",
       "</table>\n",
       "</div>"
      ],
      "text/plain": [
       "   Anio  Cantidad\n",
       "0  2016       144\n",
       "1  2018       143\n",
       "2  2017       131\n",
       "3  2019       103\n",
       "4  2021        97\n",
       "5  2020        78"
      ]
     },
     "execution_count": 25,
     "metadata": {},
     "output_type": "execute_result"
    }
   ],
   "source": [
    "Anio = homicidios['AAAA'].value_counts().reset_index()\n",
    "Anio.columns = ['Anio', 'Cantidad']\n",
    "Anio"
   ]
  },
  {
   "cell_type": "code",
   "execution_count": 27,
   "metadata": {},
   "outputs": [
    {
     "data": {
      "text/html": [
       "<div>\n",
       "<style scoped>\n",
       "    .dataframe tbody tr th:only-of-type {\n",
       "        vertical-align: middle;\n",
       "    }\n",
       "\n",
       "    .dataframe tbody tr th {\n",
       "        vertical-align: top;\n",
       "    }\n",
       "\n",
       "    .dataframe thead th {\n",
       "        text-align: right;\n",
       "    }\n",
       "</style>\n",
       "<table border=\"1\" class=\"dataframe\">\n",
       "  <thead>\n",
       "    <tr style=\"text-align: right;\">\n",
       "      <th></th>\n",
       "      <th>Anio</th>\n",
       "      <th>Cantidad</th>\n",
       "      <th>victimas/100k</th>\n",
       "    </tr>\n",
       "  </thead>\n",
       "  <tbody>\n",
       "    <tr>\n",
       "      <th>0</th>\n",
       "      <td>2016</td>\n",
       "      <td>144</td>\n",
       "      <td>4.791405</td>\n",
       "    </tr>\n",
       "    <tr>\n",
       "      <th>1</th>\n",
       "      <td>2018</td>\n",
       "      <td>143</td>\n",
       "      <td>4.698088</td>\n",
       "    </tr>\n",
       "    <tr>\n",
       "      <th>2</th>\n",
       "      <td>2017</td>\n",
       "      <td>131</td>\n",
       "      <td>4.331170</td>\n",
       "    </tr>\n",
       "    <tr>\n",
       "      <th>3</th>\n",
       "      <td>2019</td>\n",
       "      <td>103</td>\n",
       "      <td>3.362720</td>\n",
       "    </tr>\n",
       "    <tr>\n",
       "      <th>4</th>\n",
       "      <td>2021</td>\n",
       "      <td>97</td>\n",
       "      <td>3.127613</td>\n",
       "    </tr>\n",
       "    <tr>\n",
       "      <th>5</th>\n",
       "      <td>2020</td>\n",
       "      <td>78</td>\n",
       "      <td>2.530658</td>\n",
       "    </tr>\n",
       "  </tbody>\n",
       "</table>\n",
       "</div>"
      ],
      "text/plain": [
       "   Anio  Cantidad  victimas/100k\n",
       "0  2016       144       4.791405\n",
       "1  2018       143       4.698088\n",
       "2  2017       131       4.331170\n",
       "3  2019       103       3.362720\n",
       "4  2021        97       3.127613\n",
       "5  2020        78       2.530658"
      ]
     },
     "execution_count": 27,
     "metadata": {},
     "output_type": "execute_result"
    }
   ],
   "source": [
    "Anioc100= homicidios['AAAA'].value_counts().reset_index()\n",
    "Anioc100.columns = ['Anio', 'Cantidad']\n",
    "Anioc100.insert(2, 'victimas/100k', value=Anio['Cantidad']/(ord_al_origen1+m*Anioc100['Anio'])*100000) #Para estimar la poblacion por año se utiliza\n",
    "                                                                                                        #la formula de la interpolacion lineal calculada al principio\n",
    "Anioc100"
   ]
  },
  {
   "cell_type": "code",
   "execution_count": 28,
   "metadata": {},
   "outputs": [
    {
     "data": {
      "text/plain": [
       "Text(0.5, 1.0, 'Victimas por año cada 100000 habitantes')"
      ]
     },
     "execution_count": 28,
     "metadata": {},
     "output_type": "execute_result"
    },
    {
     "data": {
      "image/png": "[encoded data removed]",
      "text/plain": [
       "<Figure size 720x432 with 1 Axes>"
      ]
     },
     "metadata": {
      "needs_background": "light"
     },
     "output_type": "display_data"
    }
   ],
   "source": [
    "plt.figure(figsize=(10, 6))\n",
    "sns.barplot(x = \"Anio\", y = \"victimas/100k\", data = Anioc100)\n",
    "plt.xlabel(\"Anio\")\n",
    "plt.ylabel(\"Victimas/100000 habitantes\")\n",
    "plt.title(\"Victimas por año cada 100000 habitantes\")"
   ]
  },
  {
   "cell_type": "markdown",
   "metadata": {},
   "source": [
    "En el gráfico puede verse una disminucion de los accidentes cada 100000 habitantes a lo largo de los años. Observar la baja del año 2020 debida a la disminucion de transito por el aislamiento social preventivo por la pandemia de Covid.\n",
    "\n",
    "Tener en cuenta que la poblacion año a año es estimada por interpolación lineal entre los datos de los censos de 2010 y 2022."
   ]
  },
  {
   "cell_type": "markdown",
   "metadata": {},
   "source": [
    "### Víctimas por hora del dia"
   ]
  },
  {
   "cell_type": "code",
   "execution_count": 30,
   "metadata": {},
   "outputs": [],
   "source": [
    "hora = homicidios['HH'].value_counts().reset_index()\n",
    "hora.columns = ['hora', 'cantidad']\n",
    "#hora"
   ]
  },
  {
   "cell_type": "code",
   "execution_count": 31,
   "metadata": {},
   "outputs": [
    {
     "data": {
      "text/plain": [
       "Text(0.5, 1.0, 'Víctimas por hora del dia')"
      ]
     },
     "execution_count": 31,
     "metadata": {},
     "output_type": "execute_result"
    },
    {
     "data": {
      "image/png": "[encoded data removed]",
      "text/plain": [
       "<Figure size 720x432 with 1 Axes>"
      ]
     },
     "metadata": {
      "needs_background": "light"
     },
     "output_type": "display_data"
    }
   ],
   "source": [
    "plt.figure(figsize=(10, 6))\n",
    "sns.barplot(x = \"hora\", y = \"cantidad\", data = hora)\n",
    "plt.xlabel(\"hora\")\n",
    "plt.ylabel(\"cantidad de víctimas\")\n",
    "plt.title(\"Víctimas por hora del dia\")"
   ]
  },
  {
   "cell_type": "markdown",
   "metadata": {},
   "source": [
    "Puede verse un aumento de accidentes en hora pico de la mañana (de 6 a 9). En hora pico de la tarde (16 a 20) hay otro pico aunque no parece verse un aumento tan significativo. \n",
    "\n",
    "Tener en cuenta que habia dos registros en la columna HH que tenian de valor 'SD'. Esos valores fueron remplazados por 0"
   ]
  },
  {
   "cell_type": "markdown",
   "metadata": {},
   "source": [
    "La columna 'LUGAR_DEL_HECHO', da la dirección del accidente. Para analizar se me ocurrio separar las dos calles (en caso de que sea una esquina) en dos columnas. Esas dos columnas serán 'calle_1' y 'calle_2'. En el caso de que solo contenga una sola calle (un caso seria que el accidente se produjo a mitad de cuadra, es decir no necesariamente en un esquina), la columna calle 2 tendra NaN."
   ]
  },
  {
   "cell_type": "code",
   "execution_count": 231,
   "metadata": {},
   "outputs": [],
   "source": [
    "#se generan en el dataframe homicidios, las columnas calle_1 y calle_2 a partir de splitear la columna 'LUGAR_DEL_HECHO'.\n",
    "I = homicidios['LUGAR_DEL_HECHO'].str.split(re.compile(r' Y ', re.IGNORECASE) , expand=True)\n",
    "I[2].loc[I[2].isna()]=''\n",
    "I['calle_2'] = I[1].str.cat(I[2], sep = ' ')\n",
    "I['calle_2'] = I['calle_2'].str.strip()\n",
    "I.rename(columns={0:'calle_1'}, inplace=True)\n",
    "I.drop(columns= [1,2], inplace=True)\n",
    "homicidios = pd.concat([homicidios, I], axis=1)\n"
   ]
  },
  {
   "cell_type": "code",
   "execution_count": 250,
   "metadata": {},
   "outputs": [
    {
     "data": {
      "text/plain": [
       "75.14367816091954"
      ]
     },
     "execution_count": 250,
     "metadata": {},
     "output_type": "execute_result"
    }
   ],
   "source": [
    "#valores_no_nulos = homicidios['calle_2'].notna()\n",
    "\n",
    "# Crear un nuevo DataFrame con los valores no nulos\n",
    "#df_filtrado = homicidios[valores_no_nulos]\n",
    "#homicidios[homicidios['calle_2'].notna()]['calle_2'].count() #523\n",
    "#homicidios[homicidios['calle_2'].isna()]['calle_2'].count()\n",
    "#len(homicidios['calle_2'])\n",
    "porcentaje_choques_esquinas= homicidios[homicidios['calle_2'].notna()]['calle_2'].count()/len(homicidios['calle_2']) *100\n",
    "porcentaje_choques_esquinas"
   ]
  },
  {
   "cell_type": "markdown",
   "metadata": {},
   "source": [
    "El porcenjate de choques en esquinas es de 75 %"
   ]
  },
  {
   "cell_type": "markdown",
   "metadata": {},
   "source": [
    "### Cantidad de víctimas por tipo de vía."
   ]
  },
  {
   "cell_type": "code",
   "execution_count": 293,
   "metadata": {},
   "outputs": [],
   "source": [
    "homicidios.nunique(axis=0, dropna=True) # hay 4 tipos de calles\n",
    "tipos_de_calle= homicidios['TIPO_DE_CALLE'].value_counts().reset_index()\n",
    "tipos_de_calle.columns = ['tipo_de_calle', 'cantidad']"
   ]
  },
  {
   "cell_type": "code",
   "execution_count": 294,
   "metadata": {},
   "outputs": [
    {
     "data": {
      "text/html": [
       "<div>\n",
       "<style scoped>\n",
       "    .dataframe tbody tr th:only-of-type {\n",
       "        vertical-align: middle;\n",
       "    }\n",
       "\n",
       "    .dataframe tbody tr th {\n",
       "        vertical-align: top;\n",
       "    }\n",
       "\n",
       "    .dataframe thead th {\n",
       "        text-align: right;\n",
       "    }\n",
       "</style>\n",
       "<table border=\"1\" class=\"dataframe\">\n",
       "  <thead>\n",
       "    <tr style=\"text-align: right;\">\n",
       "      <th></th>\n",
       "      <th>tipo_de_calle</th>\n",
       "      <th>cantidad</th>\n",
       "    </tr>\n",
       "  </thead>\n",
       "  <tbody>\n",
       "    <tr>\n",
       "      <th>0</th>\n",
       "      <td>AVENIDA</td>\n",
       "      <td>429</td>\n",
       "    </tr>\n",
       "    <tr>\n",
       "      <th>1</th>\n",
       "      <td>CALLE</td>\n",
       "      <td>136</td>\n",
       "    </tr>\n",
       "    <tr>\n",
       "      <th>2</th>\n",
       "      <td>AUTOPISTA</td>\n",
       "      <td>66</td>\n",
       "    </tr>\n",
       "    <tr>\n",
       "      <th>3</th>\n",
       "      <td>GRAL PAZ</td>\n",
       "      <td>65</td>\n",
       "    </tr>\n",
       "  </tbody>\n",
       "</table>\n",
       "</div>"
      ],
      "text/plain": [
       "  tipo_de_calle  cantidad\n",
       "0       AVENIDA       429\n",
       "1         CALLE       136\n",
       "2     AUTOPISTA        66\n",
       "3      GRAL PAZ        65"
      ]
     },
     "execution_count": 294,
     "metadata": {},
     "output_type": "execute_result"
    }
   ],
   "source": [
    "tipos_de_calle"
   ]
  },
  {
   "cell_type": "markdown",
   "metadata": {},
   "source": [
    "Observar que General Paz figura como un tipo de calle, siendo que General Paz es una autopista. Remplazaré General Paz por 'Autopista'"
   ]
  },
  {
   "cell_type": "code",
   "execution_count": 34,
   "metadata": {},
   "outputs": [],
   "source": [
    "homicidios['TIPO_DE_CALLE'] = homicidios['TIPO_DE_CALLE'].replace(to_replace='GRAL PAZ', value='AUTOPISTA')\n",
    "#homicidios['TIPO_DE_CALLE'].loc[homicidios['TIPO_DE_CALLE']=='GRAL PAZ'].\n",
    "homicidios.nunique(axis=0, dropna=True) # hay 4 tipos de calles\n",
    "tipos_de_calle= homicidios['TIPO_DE_CALLE'].value_counts().reset_index()\n",
    "tipos_de_calle.columns = ['tipo_de_calle', 'cantidad']"
   ]
  },
  {
   "cell_type": "code",
   "execution_count": 50,
   "metadata": {},
   "outputs": [
    {
     "data": {
      "image/png": "[encoded data removed]",
      "text/plain": [
       "<Figure size 720x720 with 1 Axes>"
      ]
     },
     "metadata": {},
     "output_type": "display_data"
    }
   ],
   "source": [
    "data = tipos_de_calle['cantidad']\n",
    "labels = tipos_de_calle['tipo_de_calle']\n",
    "colors = sns.color_palette('bright')\n",
    "plt.figure(figsize=(10, 10))\n",
    "# Crear el gráfico de torta\n",
    "pie = plt.pie(data, labels=labels, colors=colors, autopct='%0.0f%%')\n",
    "plt.gca().set_facecolor('black')  # Establecer el fondo negro\n",
    "\n",
    "# Cambiar el color de las etiquetas a blanco\n",
    "for label in pie[1]:\n",
    "    label.set_color('red')\n",
    "plt.legend()\n",
    "plt.title(\"Porcentaje de victimas por tipo de via de circulación\")\n",
    "plt.show()"
   ]
  },
  {
   "cell_type": "markdown",
   "metadata": {},
   "source": [
    "El tipo de via en el que menos accidentes mortales se producen es la autopista."
   ]
  },
  {
   "cell_type": "markdown",
   "metadata": {},
   "source": [
    "### Siniestros en esquinas?\n",
    "\n",
    "De acuerdo a las definiciones del diccionario, en caso de que el siniestro se haya producido en una esquina, entonces en la columna 'Cruce' deberia verse el nombre de la calle. Puede deducirse entonces que si el registro en esa columna esta en NaN, el siniestro no se produjo entonces en una esquina.\n"
   ]
  },
  {
   "cell_type": "code",
   "execution_count": 62,
   "metadata": {},
   "outputs": [
    {
     "data": {
      "text/plain": [
       "75.43103448275862"
      ]
     },
     "execution_count": 62,
     "metadata": {},
     "output_type": "execute_result"
    }
   ],
   "source": [
    "#homicidios.info()\n",
    "#homicidios[['Calle', 'Altura', 'Cruce']].sample(30)\n",
    "porcentaje_choques_esquinas = homicidios[homicidios['Cruce'].notna()]['Cruce'].count()/len(homicidios['Cruce']) *100\n",
    "porcentaje_choques_esquinas"
   ]
  },
  {
   "cell_type": "markdown",
   "metadata": {},
   "source": [
    "El 75 % de los siniestros en los que se hubo muertes, se produjeron en esquinas."
   ]
  },
  {
   "cell_type": "markdown",
   "metadata": {},
   "source": [
    "### Cantidad de accidentes por comuna\n",
    "\n",
    "Para mas informacion sobre comunas de Ciudad de Buenos Aires: https://buenosaires.gob.ar/comunas"
   ]
  },
  {
   "cell_type": "code",
   "execution_count": 73,
   "metadata": {},
   "outputs": [
    {
     "data": {
      "text/html": [
       "<div>\n",
       "<style scoped>\n",
       "    .dataframe tbody tr th:only-of-type {\n",
       "        vertical-align: middle;\n",
       "    }\n",
       "\n",
       "    .dataframe tbody tr th {\n",
       "        vertical-align: top;\n",
       "    }\n",
       "\n",
       "    .dataframe thead th {\n",
       "        text-align: right;\n",
       "    }\n",
       "</style>\n",
       "<table border=\"1\" class=\"dataframe\">\n",
       "  <thead>\n",
       "    <tr style=\"text-align: right;\">\n",
       "      <th></th>\n",
       "      <th>comuna</th>\n",
       "      <th>cantidad</th>\n",
       "    </tr>\n",
       "  </thead>\n",
       "  <tbody>\n",
       "    <tr>\n",
       "      <th>0</th>\n",
       "      <td>1</td>\n",
       "      <td>90</td>\n",
       "    </tr>\n",
       "    <tr>\n",
       "      <th>1</th>\n",
       "      <td>4</td>\n",
       "      <td>76</td>\n",
       "    </tr>\n",
       "    <tr>\n",
       "      <th>2</th>\n",
       "      <td>9</td>\n",
       "      <td>73</td>\n",
       "    </tr>\n",
       "    <tr>\n",
       "      <th>3</th>\n",
       "      <td>8</td>\n",
       "      <td>65</td>\n",
       "    </tr>\n",
       "    <tr>\n",
       "      <th>4</th>\n",
       "      <td>7</td>\n",
       "      <td>60</td>\n",
       "    </tr>\n",
       "    <tr>\n",
       "      <th>5</th>\n",
       "      <td>3</td>\n",
       "      <td>45</td>\n",
       "    </tr>\n",
       "    <tr>\n",
       "      <th>6</th>\n",
       "      <td>15</td>\n",
       "      <td>44</td>\n",
       "    </tr>\n",
       "    <tr>\n",
       "      <th>7</th>\n",
       "      <td>13</td>\n",
       "      <td>40</td>\n",
       "    </tr>\n",
       "    <tr>\n",
       "      <th>8</th>\n",
       "      <td>12</td>\n",
       "      <td>37</td>\n",
       "    </tr>\n",
       "    <tr>\n",
       "      <th>9</th>\n",
       "      <td>14</td>\n",
       "      <td>35</td>\n",
       "    </tr>\n",
       "    <tr>\n",
       "      <th>10</th>\n",
       "      <td>11</td>\n",
       "      <td>32</td>\n",
       "    </tr>\n",
       "    <tr>\n",
       "      <th>11</th>\n",
       "      <td>10</td>\n",
       "      <td>29</td>\n",
       "    </tr>\n",
       "    <tr>\n",
       "      <th>12</th>\n",
       "      <td>2</td>\n",
       "      <td>25</td>\n",
       "    </tr>\n",
       "    <tr>\n",
       "      <th>13</th>\n",
       "      <td>5</td>\n",
       "      <td>22</td>\n",
       "    </tr>\n",
       "    <tr>\n",
       "      <th>14</th>\n",
       "      <td>6</td>\n",
       "      <td>21</td>\n",
       "    </tr>\n",
       "  </tbody>\n",
       "</table>\n",
       "</div>"
      ],
      "text/plain": [
       "    comuna  cantidad\n",
       "0        1        90\n",
       "1        4        76\n",
       "2        9        73\n",
       "3        8        65\n",
       "4        7        60\n",
       "5        3        45\n",
       "6       15        44\n",
       "7       13        40\n",
       "8       12        37\n",
       "9       14        35\n",
       "10      11        32\n",
       "11      10        29\n",
       "12       2        25\n",
       "13       5        22\n",
       "14       6        21"
      ]
     },
     "execution_count": 73,
     "metadata": {},
     "output_type": "execute_result"
    }
   ],
   "source": [
    "comunas= homicidios['COMUNA'].value_counts().reset_index()\n",
    "comunas.columns = ['comuna', 'cantidad']\n",
    "comunas = comunas.drop(index=15) # se dropea el index=15 que corresponde a la comuna 0. Esa comuna no existe y ese registro se trata de un error. Para este analisis no es tenido en cuenta ese registro.\n",
    "comunas"
   ]
  },
  {
   "cell_type": "code",
   "execution_count": 74,
   "metadata": {},
   "outputs": [
    {
     "data": {
      "text/plain": [
       "Text(0.5, 1.0, 'Víctimas por comunas')"
      ]
     },
     "execution_count": 74,
     "metadata": {},
     "output_type": "execute_result"
    },
    {
     "data": {
      "image/png": "[encoded data removed]",
      "text/plain": [
       "<Figure size 720x432 with 1 Axes>"
      ]
     },
     "metadata": {
      "needs_background": "light"
     },
     "output_type": "display_data"
    }
   ],
   "source": [
    "plt.figure(figsize=(10, 6))\n",
    "sns.barplot(x = \"comuna\", y = \"cantidad\", data = comunas)\n",
    "plt.xlabel(\"Comuna\")\n",
    "plt.ylabel(\"Cantidad de víctimas\")\n",
    "plt.title(\"Víctimas por comunas\")"
   ]
  },
  {
   "cell_type": "markdown",
   "metadata": {},
   "source": [
    "### Participantes en siniestros"
   ]
  },
  {
   "cell_type": "code",
   "execution_count": 80,
   "metadata": {},
   "outputs": [
    {
     "data": {
      "text/html": [
       "<div>\n",
       "<style scoped>\n",
       "    .dataframe tbody tr th:only-of-type {\n",
       "        vertical-align: middle;\n",
       "    }\n",
       "\n",
       "    .dataframe tbody tr th {\n",
       "        vertical-align: top;\n",
       "    }\n",
       "\n",
       "    .dataframe thead th {\n",
       "        text-align: right;\n",
       "    }\n",
       "</style>\n",
       "<table border=\"1\" class=\"dataframe\">\n",
       "  <thead>\n",
       "    <tr style=\"text-align: right;\">\n",
       "      <th></th>\n",
       "      <th>participantes</th>\n",
       "      <th>cantidad</th>\n",
       "    </tr>\n",
       "  </thead>\n",
       "  <tbody>\n",
       "    <tr>\n",
       "      <th>0</th>\n",
       "      <td>PEATON-PASAJEROS</td>\n",
       "      <td>105</td>\n",
       "    </tr>\n",
       "    <tr>\n",
       "      <th>1</th>\n",
       "      <td>MOTO-AUTO</td>\n",
       "      <td>83</td>\n",
       "    </tr>\n",
       "    <tr>\n",
       "      <th>2</th>\n",
       "      <td>MOTO-CARGAS</td>\n",
       "      <td>78</td>\n",
       "    </tr>\n",
       "    <tr>\n",
       "      <th>3</th>\n",
       "      <td>PEATON-AUTO</td>\n",
       "      <td>77</td>\n",
       "    </tr>\n",
       "    <tr>\n",
       "      <th>4</th>\n",
       "      <td>MOTO-PASAJEROS</td>\n",
       "      <td>46</td>\n",
       "    </tr>\n",
       "    <tr>\n",
       "      <th>5</th>\n",
       "      <td>MOTO-OBJETO FIJO</td>\n",
       "      <td>40</td>\n",
       "    </tr>\n",
       "    <tr>\n",
       "      <th>6</th>\n",
       "      <td>PEATON-CARGAS</td>\n",
       "      <td>38</td>\n",
       "    </tr>\n",
       "    <tr>\n",
       "      <th>7</th>\n",
       "      <td>AUTO-AUTO</td>\n",
       "      <td>31</td>\n",
       "    </tr>\n",
       "    <tr>\n",
       "      <th>8</th>\n",
       "      <td>PEATON-MOTO</td>\n",
       "      <td>30</td>\n",
       "    </tr>\n",
       "    <tr>\n",
       "      <th>9</th>\n",
       "      <td>MOTO-MOTO</td>\n",
       "      <td>25</td>\n",
       "    </tr>\n",
       "    <tr>\n",
       "      <th>10</th>\n",
       "      <td>AUTO-OBJETO FIJO</td>\n",
       "      <td>22</td>\n",
       "    </tr>\n",
       "    <tr>\n",
       "      <th>11</th>\n",
       "      <td>MULTIPLE</td>\n",
       "      <td>17</td>\n",
       "    </tr>\n",
       "    <tr>\n",
       "      <th>12</th>\n",
       "      <td>AUTO-CARGAS</td>\n",
       "      <td>14</td>\n",
       "    </tr>\n",
       "    <tr>\n",
       "      <th>13</th>\n",
       "      <td>BICICLETA-CARGAS</td>\n",
       "      <td>10</td>\n",
       "    </tr>\n",
       "  </tbody>\n",
       "</table>\n",
       "</div>"
      ],
      "text/plain": [
       "       participantes  cantidad\n",
       "0   PEATON-PASAJEROS       105\n",
       "1          MOTO-AUTO        83\n",
       "2        MOTO-CARGAS        78\n",
       "3        PEATON-AUTO        77\n",
       "4     MOTO-PASAJEROS        46\n",
       "5   MOTO-OBJETO FIJO        40\n",
       "6      PEATON-CARGAS        38\n",
       "7          AUTO-AUTO        31\n",
       "8        PEATON-MOTO        30\n",
       "9          MOTO-MOTO        25\n",
       "10  AUTO-OBJETO FIJO        22\n",
       "11          MULTIPLE        17\n",
       "12       AUTO-CARGAS        14\n",
       "13  BICICLETA-CARGAS        10"
      ]
     },
     "execution_count": 80,
     "metadata": {},
     "output_type": "execute_result"
    }
   ],
   "source": [
    "\n",
    "participantes = homicidios['PARTICIPANTES'].value_counts().reset_index()\n",
    "participantes.columns = ['participantes', 'cantidad']\n",
    "participantes = participantes.iloc[0:14,:] # dado que son muchas convinaciones posibles, se trunca en los primeros 15\n",
    "participantes"
   ]
  },
  {
   "cell_type": "code",
   "execution_count": 90,
   "metadata": {},
   "outputs": [
    {
     "data": {
      "image/png": "[encoded data removed]",
      "text/plain": [
       "<Figure size 720x432 with 1 Axes>"
      ]
     },
     "metadata": {
      "needs_background": "light"
     },
     "output_type": "display_data"
    }
   ],
   "source": [
    "plt.figure(figsize=(10, 6))\n",
    "sns.barplot(x = \"participantes\", y = \"cantidad\", data = participantes)\n",
    "plt.xlabel(\"Participantes\")\n",
    "plt.ylabel(\"Cantidad de víctimas\")\n",
    "plt.title(\"Participantes en siniestros, cantidad de muertes\")\n",
    "plt.xticks(rotation=90);"
   ]
  },
  {
   "cell_type": "markdown",
   "metadata": {},
   "source": [
    "### Victimas del siniestro"
   ]
  },
  {
   "cell_type": "code",
   "execution_count": 93,
   "metadata": {},
   "outputs": [
    {
     "data": {
      "text/html": [
       "<div>\n",
       "<style scoped>\n",
       "    .dataframe tbody tr th:only-of-type {\n",
       "        vertical-align: middle;\n",
       "    }\n",
       "\n",
       "    .dataframe tbody tr th {\n",
       "        vertical-align: top;\n",
       "    }\n",
       "\n",
       "    .dataframe thead th {\n",
       "        text-align: right;\n",
       "    }\n",
       "</style>\n",
       "<table border=\"1\" class=\"dataframe\">\n",
       "  <thead>\n",
       "    <tr style=\"text-align: right;\">\n",
       "      <th></th>\n",
       "      <th>victimas</th>\n",
       "      <th>cantidad</th>\n",
       "    </tr>\n",
       "  </thead>\n",
       "  <tbody>\n",
       "    <tr>\n",
       "      <th>0</th>\n",
       "      <td>MOTO</td>\n",
       "      <td>295</td>\n",
       "    </tr>\n",
       "    <tr>\n",
       "      <th>1</th>\n",
       "      <td>PEATON</td>\n",
       "      <td>264</td>\n",
       "    </tr>\n",
       "    <tr>\n",
       "      <th>2</th>\n",
       "      <td>AUTO</td>\n",
       "      <td>83</td>\n",
       "    </tr>\n",
       "    <tr>\n",
       "      <th>3</th>\n",
       "      <td>BICICLETA</td>\n",
       "      <td>29</td>\n",
       "    </tr>\n",
       "    <tr>\n",
       "      <th>4</th>\n",
       "      <td>SD</td>\n",
       "      <td>9</td>\n",
       "    </tr>\n",
       "    <tr>\n",
       "      <th>5</th>\n",
       "      <td>CARGAS</td>\n",
       "      <td>7</td>\n",
       "    </tr>\n",
       "    <tr>\n",
       "      <th>6</th>\n",
       "      <td>PASAJEROS</td>\n",
       "      <td>5</td>\n",
       "    </tr>\n",
       "    <tr>\n",
       "      <th>7</th>\n",
       "      <td>MOVIL</td>\n",
       "      <td>2</td>\n",
       "    </tr>\n",
       "    <tr>\n",
       "      <th>8</th>\n",
       "      <td>OBJETO FIJO</td>\n",
       "      <td>1</td>\n",
       "    </tr>\n",
       "    <tr>\n",
       "      <th>9</th>\n",
       "      <td>PEATON_MOTO</td>\n",
       "      <td>1</td>\n",
       "    </tr>\n",
       "  </tbody>\n",
       "</table>\n",
       "</div>"
      ],
      "text/plain": [
       "      victimas  cantidad\n",
       "0         MOTO       295\n",
       "1       PEATON       264\n",
       "2         AUTO        83\n",
       "3    BICICLETA        29\n",
       "4           SD         9\n",
       "5       CARGAS         7\n",
       "6    PASAJEROS         5\n",
       "7        MOVIL         2\n",
       "8  OBJETO FIJO         1\n",
       "9  PEATON_MOTO         1"
      ]
     },
     "execution_count": 93,
     "metadata": {},
     "output_type": "execute_result"
    }
   ],
   "source": [
    "victimas = homicidios['VICTIMA'].value_counts().reset_index()\n",
    "victimas.columns = ['victimas', 'cantidad']\n",
    "\n",
    "victimas"
   ]
  },
  {
   "cell_type": "code",
   "execution_count": 91,
   "metadata": {},
   "outputs": [
    {
     "data": {
      "image/png": "[encoded data removed]",
      "text/plain": [
       "<Figure size 720x432 with 1 Axes>"
      ]
     },
     "metadata": {
      "needs_background": "light"
     },
     "output_type": "display_data"
    }
   ],
   "source": [
    "plt.figure(figsize=(10, 6))\n",
    "sns.barplot(x = \"victimas\", y = \"cantidad\", data = victimas)\n",
    "plt.xlabel(\"Victimas del siniestro\")\n",
    "plt.ylabel(\"Cantidad de víctimas\")\n",
    "plt.title(\"Victimas del siniestro, cantidad de muertes\")\n",
    "plt.xticks(rotation=90);"
   ]
  },
  {
   "cell_type": "markdown",
   "metadata": {},
   "source": [
    "La mayoria de las personas muertas en accidentes de transito son motociclistas y peatones"
   ]
  },
  {
   "cell_type": "code",
   "execution_count": 94,
   "metadata": {},
   "outputs": [
    {
     "data": {
      "text/html": [
       "<div>\n",
       "<style scoped>\n",
       "    .dataframe tbody tr th:only-of-type {\n",
       "        vertical-align: middle;\n",
       "    }\n",
       "\n",
       "    .dataframe tbody tr th {\n",
       "        vertical-align: top;\n",
       "    }\n",
       "\n",
       "    .dataframe thead th {\n",
       "        text-align: right;\n",
       "    }\n",
       "</style>\n",
       "<table border=\"1\" class=\"dataframe\">\n",
       "  <thead>\n",
       "    <tr style=\"text-align: right;\">\n",
       "      <th></th>\n",
       "      <th>acusado</th>\n",
       "      <th>cantidad</th>\n",
       "    </tr>\n",
       "  </thead>\n",
       "  <tbody>\n",
       "    <tr>\n",
       "      <th>0</th>\n",
       "      <td>AUTO</td>\n",
       "      <td>204</td>\n",
       "    </tr>\n",
       "    <tr>\n",
       "      <th>1</th>\n",
       "      <td>PASAJEROS</td>\n",
       "      <td>173</td>\n",
       "    </tr>\n",
       "    <tr>\n",
       "      <th>2</th>\n",
       "      <td>CARGAS</td>\n",
       "      <td>146</td>\n",
       "    </tr>\n",
       "    <tr>\n",
       "      <th>3</th>\n",
       "      <td>OBJETO FIJO</td>\n",
       "      <td>62</td>\n",
       "    </tr>\n",
       "    <tr>\n",
       "      <th>4</th>\n",
       "      <td>MOTO</td>\n",
       "      <td>57</td>\n",
       "    </tr>\n",
       "    <tr>\n",
       "      <th>5</th>\n",
       "      <td>SD</td>\n",
       "      <td>23</td>\n",
       "    </tr>\n",
       "    <tr>\n",
       "      <th>6</th>\n",
       "      <td>MULTIPLE</td>\n",
       "      <td>17</td>\n",
       "    </tr>\n",
       "    <tr>\n",
       "      <th>7</th>\n",
       "      <td>BICICLETA</td>\n",
       "      <td>7</td>\n",
       "    </tr>\n",
       "    <tr>\n",
       "      <th>8</th>\n",
       "      <td>OTRO</td>\n",
       "      <td>6</td>\n",
       "    </tr>\n",
       "    <tr>\n",
       "      <th>9</th>\n",
       "      <td>TREN</td>\n",
       "      <td>1</td>\n",
       "    </tr>\n",
       "  </tbody>\n",
       "</table>\n",
       "</div>"
      ],
      "text/plain": [
       "       acusado  cantidad\n",
       "0         AUTO       204\n",
       "1    PASAJEROS       173\n",
       "2       CARGAS       146\n",
       "3  OBJETO FIJO        62\n",
       "4         MOTO        57\n",
       "5           SD        23\n",
       "6     MULTIPLE        17\n",
       "7    BICICLETA         7\n",
       "8         OTRO         6\n",
       "9         TREN         1"
      ]
     },
     "execution_count": 94,
     "metadata": {},
     "output_type": "execute_result"
    }
   ],
   "source": [
    "acusados = homicidios['ACUSADO'].value_counts().reset_index()\n",
    "acusados.columns = ['acusado', 'cantidad']\n",
    "acusados"
   ]
  },
  {
   "cell_type": "code",
   "execution_count": 96,
   "metadata": {},
   "outputs": [
    {
     "data": {
      "image/png": "[encoded data removed]",
      "text/plain": [
       "<Figure size 720x432 with 1 Axes>"
      ]
     },
     "metadata": {
      "needs_background": "light"
     },
     "output_type": "display_data"
    }
   ],
   "source": [
    "plt.figure(figsize=(10, 6))\n",
    "sns.barplot(x = \"acusado\", y = \"cantidad\", data = acusados)\n",
    "plt.xlabel(\"Acusados siniestro\")\n",
    "plt.ylabel(\"Cantidad de víctimas\")\n",
    "plt.title(\"Acusados del siniestro, cantidad de muertes\");\n",
    "#plt.xticks(rotation=90);"
   ]
  },
  {
   "cell_type": "markdown",
   "metadata": {},
   "source": [
    "La mayoria de las muertes son causadas por autos, luego vehiculos de pasajeros y vehivulos de carga."
   ]
  },
  {
   "cell_type": "markdown",
   "metadata": {},
   "source": [
    "## Analisis del Dataframe homicidios_victimas"
   ]
  },
  {
   "cell_type": "code",
   "execution_count": 102,
   "metadata": {},
   "outputs": [
    {
     "name": "stdout",
     "output_type": "stream",
     "text": [
      "Cantidad de registros de ID sin repetir:  696 , cantidad de registros totales:  717\n"
     ]
    }
   ],
   "source": [
    "print('Cantidad de registros de ID sin repetir: ', homicidios_victimas['ID_hecho'].unique().size, ', cantidad de registros totales: ', len(homicidios_victimas))"
   ]
  },
  {
   "cell_type": "markdown",
   "metadata": {},
   "source": [
    "Pueden verse repetidos en los ID_hecho y eso es debido a que puede que en un solo hecho haya habido mas de una víctima."
   ]
  },
  {
   "cell_type": "code",
   "execution_count": 105,
   "metadata": {},
   "outputs": [
    {
     "name": "stdout",
     "output_type": "stream",
     "text": [
      "<class 'pandas.core.frame.DataFrame'>\n",
      "RangeIndex: 717 entries, 0 to 716\n",
      "Data columns (total 10 columns):\n",
      " #   Column               Non-Null Count  Dtype         \n",
      "---  ------               --------------  -----         \n",
      " 0   ID_hecho             717 non-null    object        \n",
      " 1   FECHA                717 non-null    datetime64[ns]\n",
      " 2   AAAA                 717 non-null    int64         \n",
      " 3   MM                   717 non-null    int64         \n",
      " 4   DD                   717 non-null    int64         \n",
      " 5   ROL                  717 non-null    object        \n",
      " 6   VICTIMA              717 non-null    object        \n",
      " 7   SEXO                 717 non-null    object        \n",
      " 8   EDAD                 717 non-null    object        \n",
      " 9   FECHA_FALLECIMIENTO  717 non-null    object        \n",
      "dtypes: datetime64[ns](1), int64(3), object(6)\n",
      "memory usage: 56.1+ KB\n"
     ]
    }
   ],
   "source": [
    "homicidios_victimas.info()"
   ]
  },
  {
   "cell_type": "code",
   "execution_count": 106,
   "metadata": {},
   "outputs": [
    {
     "name": "stdout",
     "output_type": "stream",
     "text": [
      "Los datos del dataframe homicidios_victimas  van desde:  2016-01-01 00:00:00 hasta:  2021-12-30 00:00:00\n"
     ]
    }
   ],
   "source": [
    "print('Los datos del dataframe homicidios_victimas  van desde: ', homicidios_victimas.FECHA.min(), 'hasta: ', homicidios_victimas.FECHA.max())"
   ]
  },
  {
   "cell_type": "code",
   "execution_count": 112,
   "metadata": {},
   "outputs": [
    {
     "name": "stdout",
     "output_type": "stream",
     "text": [
      "desde:  2016 hasta:  2021\n"
     ]
    }
   ],
   "source": [
    "print('desde: ', min(homicidios_victimas['AAAA']), 'hasta: ', max(homicidios_victimas['AAAA']))"
   ]
  },
  {
   "cell_type": "code",
   "execution_count": 115,
   "metadata": {},
   "outputs": [
    {
     "name": "stdout",
     "output_type": "stream",
     "text": [
      "mes min:  1 mes max:  12 dia min:  1 max dia:  31\n"
     ]
    }
   ],
   "source": [
    "print('mes min: ', min(homicidios_victimas['MM']), 'mes max: ', max(homicidios_victimas['MM']), 'dia min: ', min(homicidios_victimas['DD']), 'max dia: ', max(homicidios_victimas['DD']))"
   ]
  },
  {
   "cell_type": "markdown",
   "metadata": {},
   "source": [
    "### Rol de las víctimas en el siniestro"
   ]
  },
  {
   "cell_type": "code",
   "execution_count": 117,
   "metadata": {},
   "outputs": [
    {
     "data": {
      "text/html": [
       "<div>\n",
       "<style scoped>\n",
       "    .dataframe tbody tr th:only-of-type {\n",
       "        vertical-align: middle;\n",
       "    }\n",
       "\n",
       "    .dataframe tbody tr th {\n",
       "        vertical-align: top;\n",
       "    }\n",
       "\n",
       "    .dataframe thead th {\n",
       "        text-align: right;\n",
       "    }\n",
       "</style>\n",
       "<table border=\"1\" class=\"dataframe\">\n",
       "  <thead>\n",
       "    <tr style=\"text-align: right;\">\n",
       "      <th></th>\n",
       "      <th>rol</th>\n",
       "      <th>cantidad</th>\n",
       "    </tr>\n",
       "  </thead>\n",
       "  <tbody>\n",
       "    <tr>\n",
       "      <th>0</th>\n",
       "      <td>CONDUCTOR</td>\n",
       "      <td>330</td>\n",
       "    </tr>\n",
       "    <tr>\n",
       "      <th>1</th>\n",
       "      <td>PEATON</td>\n",
       "      <td>267</td>\n",
       "    </tr>\n",
       "    <tr>\n",
       "      <th>2</th>\n",
       "      <td>PASAJERO_ACOMPAÑANTE</td>\n",
       "      <td>80</td>\n",
       "    </tr>\n",
       "    <tr>\n",
       "      <th>3</th>\n",
       "      <td>CICLISTA</td>\n",
       "      <td>29</td>\n",
       "    </tr>\n",
       "    <tr>\n",
       "      <th>4</th>\n",
       "      <td>SD</td>\n",
       "      <td>11</td>\n",
       "    </tr>\n",
       "  </tbody>\n",
       "</table>\n",
       "</div>"
      ],
      "text/plain": [
       "                    rol  cantidad\n",
       "0             CONDUCTOR       330\n",
       "1                PEATON       267\n",
       "2  PASAJERO_ACOMPAÑANTE        80\n",
       "3              CICLISTA        29\n",
       "4                    SD        11"
      ]
     },
     "execution_count": 117,
     "metadata": {},
     "output_type": "execute_result"
    }
   ],
   "source": [
    "rol = homicidios_victimas['ROL'].value_counts().reset_index()\n",
    "rol.columns = ['rol', 'cantidad']\n",
    "rol"
   ]
  },
  {
   "cell_type": "code",
   "execution_count": 122,
   "metadata": {},
   "outputs": [
    {
     "name": "stdout",
     "output_type": "stream",
     "text": [
      "La cantidad de victimas conductores que conducian una moto es :  261\n"
     ]
    }
   ],
   "source": [
    "print('La cantidad de victimas conductores que conducian una moto es : ', homicidios_victimas.loc[(homicidios_victimas['ROL']=='CONDUCTOR') & (homicidios_victimas['VICTIMA']=='MOTO')].count()[0])"
   ]
  },
  {
   "cell_type": "markdown",
   "metadata": {},
   "source": [
    "De los 330 muertos conductores, la mayoría (261/330) conducían motos, con lo cual se verifica lo comentado en el otro dataframe en la columna Victima del siniestro."
   ]
  },
  {
   "cell_type": "code",
   "execution_count": 124,
   "metadata": {},
   "outputs": [
    {
     "data": {
      "text/html": [
       "<div>\n",
       "<style scoped>\n",
       "    .dataframe tbody tr th:only-of-type {\n",
       "        vertical-align: middle;\n",
       "    }\n",
       "\n",
       "    .dataframe tbody tr th {\n",
       "        vertical-align: top;\n",
       "    }\n",
       "\n",
       "    .dataframe thead th {\n",
       "        text-align: right;\n",
       "    }\n",
       "</style>\n",
       "<table border=\"1\" class=\"dataframe\">\n",
       "  <thead>\n",
       "    <tr style=\"text-align: right;\">\n",
       "      <th></th>\n",
       "      <th>sexo</th>\n",
       "      <th>cantidad</th>\n",
       "    </tr>\n",
       "  </thead>\n",
       "  <tbody>\n",
       "    <tr>\n",
       "      <th>0</th>\n",
       "      <td>MASCULINO</td>\n",
       "      <td>545</td>\n",
       "    </tr>\n",
       "    <tr>\n",
       "      <th>1</th>\n",
       "      <td>FEMENINO</td>\n",
       "      <td>166</td>\n",
       "    </tr>\n",
       "    <tr>\n",
       "      <th>2</th>\n",
       "      <td>SD</td>\n",
       "      <td>6</td>\n",
       "    </tr>\n",
       "  </tbody>\n",
       "</table>\n",
       "</div>"
      ],
      "text/plain": [
       "        sexo  cantidad\n",
       "0  MASCULINO       545\n",
       "1   FEMENINO       166\n",
       "2         SD         6"
      ]
     },
     "execution_count": 124,
     "metadata": {},
     "output_type": "execute_result"
    }
   ],
   "source": [
    "rol = homicidios_victimas['SEXO'].value_counts().reset_index()\n",
    "rol.columns = ['sexo', 'cantidad']\n",
    "rol"
   ]
  },
  {
   "cell_type": "code",
   "execution_count": 125,
   "metadata": {},
   "outputs": [
    {
     "data": {
      "image/png": "[encoded data removed]",
      "text/plain": [
       "<Figure size 720x720 with 1 Axes>"
      ]
     },
     "metadata": {},
     "output_type": "display_data"
    }
   ],
   "source": [
    "data = rol['cantidad']\n",
    "labels = rol['sexo']\n",
    "colors = sns.color_palette('bright')\n",
    "plt.figure(figsize=(10, 10))\n",
    "# Crear el gráfico de torta\n",
    "pie = plt.pie(data, labels=labels, colors=colors, autopct='%0.0f%%')\n",
    "plt.gca().set_facecolor('black')  # Establecer el fondo negro\n",
    "\n",
    "# Cambiar el color de las etiquetas a blanco\n",
    "for label in pie[1]:\n",
    "    label.set_color('red')\n",
    "plt.legend()\n",
    "plt.title(\"Porcentaje de victimas por sexo\")\n",
    "plt.show()"
   ]
  },
  {
   "cell_type": "code",
   "execution_count": 24,
   "metadata": {},
   "outputs": [],
   "source": [
    "#res = homicidios_victimas[['ROL', 'VICTIMA', 'SEXO', 'EDAD']]"
   ]
  },
  {
   "cell_type": "code",
   "execution_count": 5,
   "metadata": {},
   "outputs": [],
   "source": []
  },
  {
   "cell_type": "markdown",
   "metadata": {},
   "source": [
    "## Transformaciones"
   ]
  },
  {
   "cell_type": "code",
   "execution_count": 27,
   "metadata": {},
   "outputs": [],
   "source": [
    "homicidios_victimas = pd.read_pickle('homicidios_victimas.pkl')\n",
    "# se pasan a int los valores de la columna edad. Los valores 'SD' se remplazan por 0 para poder tratar con enteros. son 53 personas aproximadamente.\n",
    "homicidios_victimas['EDAD'] = homicidios_victimas['EDAD'].replace('SD', 0).astype(int) \n",
    "\n",
    "\n",
    "#Se genera una nueva columna con el rango etario. para la eleccion de los rangos se consira esto: https://economipedia.com/definiciones/segmentacion-por-edad.html \n",
    "# y ademas que en argentinapara poder sacar registro de conduccion de moto es necesario tener mas de 16 años.\n",
    "bins = [0, 16, 27, 40, 60, 80, 120]  # Límites de los intervalos\n",
    "etiquetas = ['menor de 16', 'entre 16 y 27', 'entre 27 y 40', 'entre 40 y 60', 'entre 60 y 75', 'mayor de 75']  # Etiquetas para cada intervalo\n",
    "\n",
    "\n",
    "homicidios_victimas.insert(9,column='rango_etario', value='a')\n",
    "homicidios_victimas['rango_etario'] = pd.cut(homicidios_victimas['EDAD'], bins=bins, labels=etiquetas, right=True, ordered=False)"
   ]
  },
  {
   "cell_type": "code",
   "execution_count": 146,
   "metadata": {},
   "outputs": [
    {
     "data": {
      "text/plain": [
       "53"
      ]
     },
     "execution_count": 146,
     "metadata": {},
     "output_type": "execute_result"
    }
   ],
   "source": [
    "homicidios_victimas['EDAD'].loc[homicidios_victimas['EDAD']==0].count()"
   ]
  },
  {
   "cell_type": "code",
   "execution_count": 145,
   "metadata": {},
   "outputs": [
    {
     "data": {
      "text/plain": [
       "count    717.000000\n",
       "mean      39.050209\n",
       "std       22.010669\n",
       "min        0.000000\n",
       "25%       24.000000\n",
       "50%       35.000000\n",
       "75%       55.000000\n",
       "max       95.000000\n",
       "Name: EDAD, dtype: float64"
      ]
     },
     "execution_count": 145,
     "metadata": {},
     "output_type": "execute_result"
    }
   ],
   "source": [
    "homicidios_victimas['EDAD'].describe()"
   ]
  },
  {
   "cell_type": "code",
   "execution_count": 11,
   "metadata": {},
   "outputs": [
    {
     "name": "stdout",
     "output_type": "stream",
     "text": [
      "<class 'pandas.core.frame.DataFrame'>\n",
      "RangeIndex: 717 entries, 0 to 716\n",
      "Data columns (total 10 columns):\n",
      " #   Column               Non-Null Count  Dtype         \n",
      "---  ------               --------------  -----         \n",
      " 0   ID_hecho             717 non-null    object        \n",
      " 1   FECHA                717 non-null    datetime64[ns]\n",
      " 2   AAAA                 717 non-null    int64         \n",
      " 3   MM                   717 non-null    int64         \n",
      " 4   DD                   717 non-null    int64         \n",
      " 5   ROL                  717 non-null    object        \n",
      " 6   VICTIMA              717 non-null    object        \n",
      " 7   SEXO                 717 non-null    object        \n",
      " 8   EDAD                 717 non-null    int32         \n",
      " 9   FECHA_FALLECIMIENTO  717 non-null    object        \n",
      "dtypes: datetime64[ns](1), int32(1), int64(3), object(5)\n",
      "memory usage: 53.3+ KB\n"
     ]
    }
   ],
   "source": [
    "homicidios_victimas.info()"
   ]
  },
  {
   "cell_type": "code",
   "execution_count": null,
   "metadata": {},
   "outputs": [],
   "source": [
    "\n"
   ]
  },
  {
   "cell_type": "code",
   "execution_count": 20,
   "metadata": {},
   "outputs": [],
   "source": []
  },
  {
   "cell_type": "code",
   "execution_count": 28,
   "metadata": {},
   "outputs": [
    {
     "data": {
      "text/html": [
       "<div>\n",
       "<style scoped>\n",
       "    .dataframe tbody tr th:only-of-type {\n",
       "        vertical-align: middle;\n",
       "    }\n",
       "\n",
       "    .dataframe tbody tr th {\n",
       "        vertical-align: top;\n",
       "    }\n",
       "\n",
       "    .dataframe thead th {\n",
       "        text-align: right;\n",
       "    }\n",
       "</style>\n",
       "<table border=\"1\" class=\"dataframe\">\n",
       "  <thead>\n",
       "    <tr style=\"text-align: right;\">\n",
       "      <th></th>\n",
       "      <th>rango_etario</th>\n",
       "      <th>cantidad</th>\n",
       "    </tr>\n",
       "  </thead>\n",
       "  <tbody>\n",
       "    <tr>\n",
       "      <th>0</th>\n",
       "      <td>entre 27 y 40</td>\n",
       "      <td>201</td>\n",
       "    </tr>\n",
       "    <tr>\n",
       "      <th>1</th>\n",
       "      <td>entre 40 y 60</td>\n",
       "      <td>162</td>\n",
       "    </tr>\n",
       "    <tr>\n",
       "      <th>2</th>\n",
       "      <td>entre 16 y 27</td>\n",
       "      <td>159</td>\n",
       "    </tr>\n",
       "    <tr>\n",
       "      <th>3</th>\n",
       "      <td>entre 60 y 75</td>\n",
       "      <td>94</td>\n",
       "    </tr>\n",
       "    <tr>\n",
       "      <th>4</th>\n",
       "      <td>mayor de 75</td>\n",
       "      <td>30</td>\n",
       "    </tr>\n",
       "    <tr>\n",
       "      <th>5</th>\n",
       "      <td>menor de 16</td>\n",
       "      <td>18</td>\n",
       "    </tr>\n",
       "  </tbody>\n",
       "</table>\n",
       "</div>"
      ],
      "text/plain": [
       "    rango_etario  cantidad\n",
       "0  entre 27 y 40       201\n",
       "1  entre 40 y 60       162\n",
       "2  entre 16 y 27       159\n",
       "3  entre 60 y 75        94\n",
       "4    mayor de 75        30\n",
       "5    menor de 16        18"
      ]
     },
     "execution_count": 28,
     "metadata": {},
     "output_type": "execute_result"
    }
   ],
   "source": [
    "rango_etario = homicidios_victimas['rango_etario'].value_counts().reset_index()\n",
    "rango_etario.columns = ['rango_etario', 'cantidad']\n",
    "rango_etario"
   ]
  },
  {
   "cell_type": "code",
   "execution_count": 44,
   "metadata": {},
   "outputs": [
    {
     "data": {
      "image/png": "[encoded data removed]",
      "text/plain": [
       "<Figure size 720x432 with 1 Axes>"
      ]
     },
     "metadata": {
      "needs_background": "light"
     },
     "output_type": "display_data"
    }
   ],
   "source": [
    "rango0 = homicidios_victimas.loc[(homicidios_victimas['rango_etario']== 'menor de 16')]\n",
    "rol0 = rango0['ROL'].value_counts().reset_index()\n",
    "rol0.columns = ['rol', 'cantidad']\n",
    "plt.figure(figsize=(10, 6))\n",
    "sns.barplot(x = \"rol\", y = \"cantidad\", data = rol0)\n",
    "plt.xlabel(\"Rol de la victima\")\n",
    "plt.ylabel(\"Cantidad de víctimas\")\n",
    "plt.title(\"Rol de la victima, segmentación menor de 16 años\");\n",
    "##\n",
    "rango1 = homicidios_victimas.loc[(homicidios_victimas['rango_etario']== 'entre 16 y 27')]\n",
    "rol1 = rango1['ROL'].value_counts().reset_index()\n",
    "rol0.columns = ['rol', 'cantidad']\n",
    "plt.figure(figsize=(10, 6))\n",
    "sns.barplot(x = \"rol\", y = \"cantidad\", data = rol0)\n",
    "plt.xlabel(\"Rol de la victima\")\n",
    "plt.ylabel(\"Cantidad de víctimas\")\n",
    "plt.title(\"Rol de la victima, segmentación menor de 16 años\");\n",
    "\n",
    "#rango1 = homicidios_victimas.loc[(homicidios_victimas['rango_etario']== 'entre 16 y 27')]\n",
    "#rango[2] = homicidios_victimas.loc[(homicidios_victimas['rango_etario']== 'entre 27 y 40')]\n",
    "#rango[3]= homicidios_victimas.loc[(homicidios_victimas['rango_etario']== 'entre 40 y 60')]\n",
    "#rango[4]= homicidios_victimas.loc[(homicidios_victimas['rango_etario']== 'entre 60 y 75')]\n",
    "#rango[5] = homicidios_victimas.loc[(homicidios_victimas['rango_etario']== 'mayor de 75')]\n"
   ]
  },
  {
   "cell_type": "code",
   "execution_count": 48,
   "metadata": {},
   "outputs": [
    {
     "data": {
      "image/png": "[encoded data removed]",
      "text/plain": [
       "<Figure size 720x432 with 1 Axes>"
      ]
     },
     "metadata": {
      "needs_background": "light"
     },
     "output_type": "display_data"
    }
   ],
   "source": [
    "rango1 = homicidios_victimas.loc[(homicidios_victimas['rango_etario']== 'entre 16 y 27')]\n",
    "rol1 = rango1['ROL'].value_counts().reset_index()\n",
    "rol1.columns = ['rol', 'cantidad']\n",
    "plt.figure(figsize=(10, 6))\n",
    "sns.barplot(x = \"rol\", y = \"cantidad\", data = rol1)\n",
    "plt.xlabel(\"Rol de la victima\")\n",
    "plt.ylabel(\"Cantidad de víctimas\")\n",
    "plt.title(\"Rol de la victima, segmentación menor de 16 años\");"
   ]
  },
  {
   "cell_type": "code",
   "execution_count": 49,
   "metadata": {},
   "outputs": [
    {
     "data": {
      "image/png": "[encoded data removed]",
      "text/plain": [
       "<Figure size 720x432 with 1 Axes>"
      ]
     },
     "metadata": {
      "needs_background": "light"
     },
     "output_type": "display_data"
    }
   ],
   "source": [
    "rango2 = homicidios_victimas.loc[(homicidios_victimas['rango_etario']== 'entre 27 y 40')]\n",
    "rol2 = rango2['ROL'].value_counts().reset_index()\n",
    "rol2.columns = ['rol', 'cantidad']\n",
    "plt.figure(figsize=(10, 6))\n",
    "sns.barplot(x = \"rol\", y = \"cantidad\", data = rol2)\n",
    "plt.xlabel(\"Rol de la victima\")\n",
    "plt.ylabel(\"Cantidad de víctimas\")\n",
    "plt.title(\"Rol de la victima, segmentación menor de 27 a 40 años\");"
   ]
  },
  {
   "cell_type": "markdown",
   "metadata": {},
   "source": []
  },
  {
   "cell_type": "code",
   "execution_count": null,
   "metadata": {},
   "outputs": [],
   "source": [
    "plt.figure(figsize=(10, 6))\n",
    "sns.barplot(x = \"rol\", y = \"cantidad\", data = rol)\n",
    "plt.xlabel(\"Acusados siniestro\")\n",
    "plt.ylabel(\"Cantidad de víctimas\")\n",
    "plt.title(\"Acusados del siniestro, cantidad de muertes\");\n"
   ]
  },
  {
   "cell_type": "code",
   "execution_count": 36,
   "metadata": {},
   "outputs": [
    {
     "ename": "AttributeError",
     "evalue": "'bool' object has no attribute 'all'",
     "output_type": "error",
     "traceback": [
      "\u001b[1;31m---------------------------------------------------------------------------\u001b[0m",
      "\u001b[1;31mAttributeError\u001b[0m                            Traceback (most recent call last)",
      "\u001b[1;32mc:\\Users\\Nahuel Elias\\Documents\\Nuevo Henry\\PI2\\ETL.ipynb Cell 85\u001b[0m line \u001b[0;36m<cell line: 1>\u001b[1;34m()\u001b[0m\n\u001b[1;32m----> <a href='vscode-notebook-cell:/c%3A/Users/Nahuel%20Elias/Documents/Nuevo%20Henry/PI2/ETL.ipynb#Y151sZmlsZQ%3D%3D?line=0'>1</a>\u001b[0m sns\u001b[39m.\u001b[39;49mbarplot(x \u001b[39m=\u001b[39;49m homicidios_victimas[\u001b[39m'\u001b[39;49m\u001b[39mROL\u001b[39;49m\u001b[39m'\u001b[39;49m], y \u001b[39m=\u001b[39;49m \u001b[39mlen\u001b[39;49m(homicidios_victimas\u001b[39m.\u001b[39;49mloc[(homicidios_victimas[\u001b[39m'\u001b[39;49m\u001b[39mrango_etario\u001b[39;49m\u001b[39m'\u001b[39;49m]\u001b[39m==\u001b[39;49m \u001b[39m'\u001b[39;49m\u001b[39mentre 16 y 27\u001b[39;49m\u001b[39m'\u001b[39;49m)]))\n\u001b[0;32m      <a href='vscode-notebook-cell:/c%3A/Users/Nahuel%20Elias/Documents/Nuevo%20Henry/PI2/ETL.ipynb#Y151sZmlsZQ%3D%3D?line=1'>2</a>\u001b[0m plt\u001b[39m.\u001b[39mxlabel(\u001b[39m\"\u001b[39m\u001b[39mAcusados siniestro\u001b[39m\u001b[39m\"\u001b[39m)\n\u001b[0;32m      <a href='vscode-notebook-cell:/c%3A/Users/Nahuel%20Elias/Documents/Nuevo%20Henry/PI2/ETL.ipynb#Y151sZmlsZQ%3D%3D?line=2'>3</a>\u001b[0m plt\u001b[39m.\u001b[39mylabel(\u001b[39m\"\u001b[39m\u001b[39mCantidad de víctimas\u001b[39m\u001b[39m\"\u001b[39m)\n",
      "File \u001b[1;32mc:\\Users\\Nahuel Elias\\AppData\\Local\\Programs\\Python\\Python39\\lib\\site-packages\\seaborn\\_decorators.py:46\u001b[0m, in \u001b[0;36m_deprecate_positional_args.<locals>.inner_f\u001b[1;34m(*args, **kwargs)\u001b[0m\n\u001b[0;32m     36\u001b[0m     warnings\u001b[39m.\u001b[39mwarn(\n\u001b[0;32m     37\u001b[0m         \u001b[39m\"\u001b[39m\u001b[39mPass the following variable\u001b[39m\u001b[39m{}\u001b[39;00m\u001b[39m as \u001b[39m\u001b[39m{}\u001b[39;00m\u001b[39mkeyword arg\u001b[39m\u001b[39m{}\u001b[39;00m\u001b[39m: \u001b[39m\u001b[39m{}\u001b[39;00m\u001b[39m. \u001b[39m\u001b[39m\"\u001b[39m\n\u001b[0;32m     38\u001b[0m         \u001b[39m\"\u001b[39m\u001b[39mFrom version 0.12, the only valid positional argument \u001b[39m\u001b[39m\"\u001b[39m\n\u001b[1;32m   (...)\u001b[0m\n\u001b[0;32m     43\u001b[0m         \u001b[39mFutureWarning\u001b[39;00m\n\u001b[0;32m     44\u001b[0m     )\n\u001b[0;32m     45\u001b[0m kwargs\u001b[39m.\u001b[39mupdate({k: arg \u001b[39mfor\u001b[39;00m k, arg \u001b[39min\u001b[39;00m \u001b[39mzip\u001b[39m(sig\u001b[39m.\u001b[39mparameters, args)})\n\u001b[1;32m---> 46\u001b[0m \u001b[39mreturn\u001b[39;00m f(\u001b[39m*\u001b[39m\u001b[39m*\u001b[39mkwargs)\n",
      "File \u001b[1;32mc:\\Users\\Nahuel Elias\\AppData\\Local\\Programs\\Python\\Python39\\lib\\site-packages\\seaborn\\categorical.py:3182\u001b[0m, in \u001b[0;36mbarplot\u001b[1;34m(x, y, hue, data, order, hue_order, estimator, ci, n_boot, units, seed, orient, color, palette, saturation, errcolor, errwidth, capsize, dodge, ax, **kwargs)\u001b[0m\n\u001b[0;32m   3169\u001b[0m \u001b[39m@_deprecate_positional_args\u001b[39m\n\u001b[0;32m   3170\u001b[0m \u001b[39mdef\u001b[39;00m \u001b[39mbarplot\u001b[39m(\n\u001b[0;32m   3171\u001b[0m     \u001b[39m*\u001b[39m,\n\u001b[1;32m   (...)\u001b[0m\n\u001b[0;32m   3179\u001b[0m     \u001b[39m*\u001b[39m\u001b[39m*\u001b[39mkwargs,\n\u001b[0;32m   3180\u001b[0m ):\n\u001b[1;32m-> 3182\u001b[0m     plotter \u001b[39m=\u001b[39m _BarPlotter(x, y, hue, data, order, hue_order,\n\u001b[0;32m   3183\u001b[0m                           estimator, ci, n_boot, units, seed,\n\u001b[0;32m   3184\u001b[0m                           orient, color, palette, saturation,\n\u001b[0;32m   3185\u001b[0m                           errcolor, errwidth, capsize, dodge)\n\u001b[0;32m   3187\u001b[0m     \u001b[39mif\u001b[39;00m ax \u001b[39mis\u001b[39;00m \u001b[39mNone\u001b[39;00m:\n\u001b[0;32m   3188\u001b[0m         ax \u001b[39m=\u001b[39m plt\u001b[39m.\u001b[39mgca()\n",
      "File \u001b[1;32mc:\\Users\\Nahuel Elias\\AppData\\Local\\Programs\\Python\\Python39\\lib\\site-packages\\seaborn\\categorical.py:1584\u001b[0m, in \u001b[0;36m_BarPlotter.__init__\u001b[1;34m(self, x, y, hue, data, order, hue_order, estimator, ci, n_boot, units, seed, orient, color, palette, saturation, errcolor, errwidth, capsize, dodge)\u001b[0m\n\u001b[0;32m   1579\u001b[0m \u001b[39mdef\u001b[39;00m \u001b[39m__init__\u001b[39m(\u001b[39mself\u001b[39m, x, y, hue, data, order, hue_order,\n\u001b[0;32m   1580\u001b[0m              estimator, ci, n_boot, units, seed,\n\u001b[0;32m   1581\u001b[0m              orient, color, palette, saturation, errcolor,\n\u001b[0;32m   1582\u001b[0m              errwidth, capsize, dodge):\n\u001b[0;32m   1583\u001b[0m     \u001b[39m\"\"\"Initialize the plotter.\"\"\"\u001b[39;00m\n\u001b[1;32m-> 1584\u001b[0m     \u001b[39mself\u001b[39;49m\u001b[39m.\u001b[39;49mestablish_variables(x, y, hue, data, orient,\n\u001b[0;32m   1585\u001b[0m                              order, hue_order, units)\n\u001b[0;32m   1586\u001b[0m     \u001b[39mself\u001b[39m\u001b[39m.\u001b[39mestablish_colors(color, palette, saturation)\n\u001b[0;32m   1587\u001b[0m     \u001b[39mself\u001b[39m\u001b[39m.\u001b[39mestimate_statistic(estimator, ci, n_boot, seed)\n",
      "File \u001b[1;32mc:\\Users\\Nahuel Elias\\AppData\\Local\\Programs\\Python\\Python39\\lib\\site-packages\\seaborn\\categorical.py:156\u001b[0m, in \u001b[0;36m_CategoricalPlotter.establish_variables\u001b[1;34m(self, x, y, hue, data, orient, order, hue_order, units)\u001b[0m\n\u001b[0;32m    153\u001b[0m         \u001b[39mraise\u001b[39;00m \u001b[39mValueError\u001b[39;00m(err)\n\u001b[0;32m    155\u001b[0m \u001b[39m# Figure out the plotting orientation\u001b[39;00m\n\u001b[1;32m--> 156\u001b[0m orient \u001b[39m=\u001b[39m infer_orient(\n\u001b[0;32m    157\u001b[0m     x, y, orient, require_numeric\u001b[39m=\u001b[39;49m\u001b[39mself\u001b[39;49m\u001b[39m.\u001b[39;49mrequire_numeric\n\u001b[0;32m    158\u001b[0m )\n\u001b[0;32m    160\u001b[0m \u001b[39m# Option 2a:\u001b[39;00m\n\u001b[0;32m    161\u001b[0m \u001b[39m# We are plotting a single set of data\u001b[39;00m\n\u001b[0;32m    162\u001b[0m \u001b[39m# ------------------------------------\u001b[39;00m\n\u001b[0;32m    163\u001b[0m \u001b[39mif\u001b[39;00m x \u001b[39mis\u001b[39;00m \u001b[39mNone\u001b[39;00m \u001b[39mor\u001b[39;00m y \u001b[39mis\u001b[39;00m \u001b[39mNone\u001b[39;00m:\n\u001b[0;32m    164\u001b[0m \n\u001b[0;32m    165\u001b[0m     \u001b[39m# Determine where the data are\u001b[39;00m\n",
      "File \u001b[1;32mc:\\Users\\Nahuel Elias\\AppData\\Local\\Programs\\Python\\Python39\\lib\\site-packages\\seaborn\\_core.py:1312\u001b[0m, in \u001b[0;36minfer_orient\u001b[1;34m(x, y, orient, require_numeric)\u001b[0m\n\u001b[0;32m   1284\u001b[0m \u001b[39m\"\"\"Determine how the plot should be oriented based on the data.\u001b[39;00m\n\u001b[0;32m   1285\u001b[0m \n\u001b[0;32m   1286\u001b[0m \u001b[39mFor historical reasons, the convention is to call a plot \"horizontally\"\u001b[39;00m\n\u001b[1;32m   (...)\u001b[0m\n\u001b[0;32m   1308\u001b[0m \n\u001b[0;32m   1309\u001b[0m \u001b[39m\"\"\"\u001b[39;00m\n\u001b[0;32m   1311\u001b[0m x_type \u001b[39m=\u001b[39m \u001b[39mNone\u001b[39;00m \u001b[39mif\u001b[39;00m x \u001b[39mis\u001b[39;00m \u001b[39mNone\u001b[39;00m \u001b[39melse\u001b[39;00m variable_type(x)\n\u001b[1;32m-> 1312\u001b[0m y_type \u001b[39m=\u001b[39m \u001b[39mNone\u001b[39;00m \u001b[39mif\u001b[39;00m y \u001b[39mis\u001b[39;00m \u001b[39mNone\u001b[39;00m \u001b[39melse\u001b[39;00m variable_type(y)\n\u001b[0;32m   1314\u001b[0m nonnumeric_dv_error \u001b[39m=\u001b[39m \u001b[39m\"\u001b[39m\u001b[39m{}\u001b[39;00m\u001b[39m orientation requires numeric `\u001b[39m\u001b[39m{}\u001b[39;00m\u001b[39m` variable.\u001b[39m\u001b[39m\"\u001b[39m\n\u001b[0;32m   1315\u001b[0m single_var_warning \u001b[39m=\u001b[39m \u001b[39m\"\u001b[39m\u001b[39m{}\u001b[39;00m\u001b[39m orientation ignored with only `\u001b[39m\u001b[39m{}\u001b[39;00m\u001b[39m` specified.\u001b[39m\u001b[39m\"\u001b[39m\n",
      "File \u001b[1;32mc:\\Users\\Nahuel Elias\\AppData\\Local\\Programs\\Python\\Python39\\lib\\site-packages\\seaborn\\_core.py:1229\u001b[0m, in \u001b[0;36mvariable_type\u001b[1;34m(vector, boolean_type)\u001b[0m\n\u001b[0;32m   1226\u001b[0m     \u001b[39mreturn\u001b[39;00m \u001b[39m\"\u001b[39m\u001b[39mcategorical\u001b[39m\u001b[39m\"\u001b[39m\n\u001b[0;32m   1228\u001b[0m \u001b[39m# Special-case all-na data, which is always \"numeric\"\u001b[39;00m\n\u001b[1;32m-> 1229\u001b[0m \u001b[39mif\u001b[39;00m pd\u001b[39m.\u001b[39;49misna(vector)\u001b[39m.\u001b[39;49mall():\n\u001b[0;32m   1230\u001b[0m     \u001b[39mreturn\u001b[39;00m \u001b[39m\"\u001b[39m\u001b[39mnumeric\u001b[39m\u001b[39m\"\u001b[39m\n\u001b[0;32m   1232\u001b[0m \u001b[39m# Special-case binary/boolean data, allow caller to determine\u001b[39;00m\n\u001b[0;32m   1233\u001b[0m \u001b[39m# This triggers a numpy warning when vector has strings/objects\u001b[39;00m\n\u001b[0;32m   1234\u001b[0m \u001b[39m# https://github.com/numpy/numpy/issues/6784\u001b[39;00m\n\u001b[1;32m   (...)\u001b[0m\n\u001b[0;32m   1238\u001b[0m \u001b[39m# https://github.com/numpy/numpy/issues/13548\u001b[39;00m\n\u001b[0;32m   1239\u001b[0m \u001b[39m# This is considered a bug by numpy and will likely go away.\u001b[39;00m\n",
      "\u001b[1;31mAttributeError\u001b[0m: 'bool' object has no attribute 'all'"
     ]
    }
   ],
   "source": [
    "sns.barplot(x = homicidios_victimas['ROL'], y = len(homicidios_victimas.loc[(homicidios_victimas['rango_etario']== 'entre 16 y 27')]))\n",
    "plt.xlabel(\"Acusados siniestro\")\n",
    "plt.ylabel(\"Cantidad de víctimas\")\n",
    "plt.title(\"Acusados del siniestro, cantidad de muertes\");\n",
    "#plt.xticks(rotation=90);"
   ]
  },
  {
   "cell_type": "code",
   "execution_count": 10,
   "metadata": {},
   "outputs": [
    {
     "data": {
      "text/plain": [
       "<AxesSubplot:xlabel='EDAD', ylabel='Count'>"
      ]
     },
     "execution_count": 10,
     "metadata": {},
     "output_type": "execute_result"
    },
    {
     "data": {
      "image/png": "[encoded data removed]",
      "text/plain": [
       "<Figure size 432x288 with 1 Axes>"
      ]
     },
     "metadata": {
      "needs_background": "light"
     },
     "output_type": "display_data"
    }
   ],
   "source": [
    "fig, axs = plt.subplots(5,1, figsize=(5,10))\n",
    "#plt.hist(df['price'], bins=100)\n",
    "axs[0].set_title('BTC')\n",
    "axs[0].hist(layer_1_ohlc['Max_Variation_Normalized_bitcoin'].loc[layer_1_ohlc['Max_Variation_Normalized_bitcoin']<tope] , bins=bins, color='b')\n",
    "axs[1].set_title('ETH')\n",
    "axs[1].hist(layer_1_ohlc['Max_Variation_Normalized_ethereum'].loc[layer_1_ohlc['Max_Variation_Normalized_ethereum']<tope], bins=bins)\n",
    "axs[2].set_title('BNB')\n",
    "axs[2].hist(layer_1_ohlc['Max_Variation_Normalized_binancecoin'].loc[layer_1_ohlc['Max_Variation_Normalized_binancecoin']<tope], bins=bins)\n",
    "axs[3].set_title('SOL')\n",
    "axs[3].hist(layer_1_ohlc['Max_Variation_Normalized_solana'].loc[layer_1_ohlc['Max_Variation_Normalized_solana']<tope], bins=bins)\n",
    "axs[4].set_title('DOGE')\n",
    "axs[4].hist(layer_1_ohlc['Max_Variation_Normalized_dogecoin'].loc[layer_1_ohlc['Max_Variation_Normalized_dogecoin']<tope], bins=bins)\n",
    "\n"
   ]
  }
 ],
 "metadata": {
  "kernelspec": {
   "display_name": "Python 3",
   "language": "python",
   "name": "python3"
  },
  "language_info": {
   "codemirror_mode": {
    "name": "ipython",
    "version": 3
   },
   "file_extension": ".py",
   "mimetype": "text/x-python",
   "name": "python",
   "nbconvert_exporter": "python",
   "pygments_lexer": "ipython3",
   "version": "3.9.10"
  },
  "orig_nbformat": 4
 },
 "nbformat": 4,
 "nbformat_minor": 2
}
